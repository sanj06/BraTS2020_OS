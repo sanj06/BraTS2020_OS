{
  "nbformat": 4,
  "nbformat_minor": 0,
  "metadata": {
    "colab": {
      "name": "BraTS2020_OSprediction.ipynb",
      "provenance": [],
      "mount_file_id": "1NBJ8rxKSWHfKHn7d1ghTteGurIRVONDL",
      "authorship_tag": "ABX9TyPuEEyHDIOG71aDLPeX95xJ",
      "include_colab_link": true
    },
    "kernelspec": {
      "name": "python3",
      "display_name": "Python 3"
    }
  },
  "cells": [
    {
      "cell_type": "markdown",
      "metadata": {
        "id": "view-in-github",
        "colab_type": "text"
      },
      "source": [
        "<a href=\"https://colab.research.google.com/github/sanj06/BraTS2020_OS/blob/master/BraTS2020_OSprediction.ipynb\" target=\"_parent\"><img src=\"https://colab.research.google.com/assets/colab-badge.svg\" alt=\"Open In Colab\"/></a>"
      ]
    },
    {
      "cell_type": "markdown",
      "metadata": {
        "id": "pJnf8_4pC7lK",
        "colab_type": "text"
      },
      "source": [
        "# Prediction of Patient Overall Survival in pre-operative MRI scans"
      ]
    },
    {
      "cell_type": "markdown",
      "metadata": {
        "id": "NZlqDGBd3tHW",
        "colab_type": "text"
      },
      "source": [
        "\n",
        "**Task 4 :**\n",
        ">**Read, Dispaly and Store Image Files**\n",
        ">\n",
        "1. Upload your dataset to Google drive\n",
        "2. Create a file in Google Colab\n",
        "3. Create a python file and save it with a word or two which represents your project(Coding Good practice)\n",
        "4. Have a separate code block for importing packages(1st code block)\n",
        "5. The first line on your code block should be a comment giving a description of your whole program following English Grammar(Coding Good practice).\n",
        "6. Link your drive to Google Colab ( 2nd code block)\n",
        "7. Share the python file to your GitHub repo\n",
        "8. Try to read one image from your data set and display it (Analysis Skill)\n",
        "9. Store your dataset in an effective way (Numpy, pandas or other numerical packages) taking memory and space into consideration (Evaluation skill) (Note: Requires extensive searching through stackoverflow before making a decision)\n",
        "10. Try to view your dataset with an offline or online image viewer. Try to observe the noise in the medical data if any.\n"
      ]
    },
    {
      "cell_type": "markdown",
      "metadata": {
        "id": "JTIvMOiWXCZ1",
        "colab_type": "text"
      },
      "source": [
        "1. Importing Libraries"
      ]
    },
    {
      "cell_type": "code",
      "metadata": {
        "id": "VROd1cgiC318",
        "colab_type": "code",
        "colab": {
          "base_uri": "https://localhost:8080/",
          "height": 190
        },
        "outputId": "c912e235-15e8-49c9-e037-743644824f2f"
      },
      "source": [
        "# Program description : Given a dataset containing pre-operative MRI scans of Brain Tumor and segmented labels,\n",
        "#                       this program trains an <ml model> to predict the Overall Survival(OS) of the patient by extracting imaging/radiomic features.\n",
        "\n",
        "#import all libaries\n",
        "import tensorflow as tf\n",
        "import matplotlib.pyplot as plt\n",
        "%matplotlib inline\n",
        "\n",
        "import numpy as np\n",
        "import nibabel as nib\n",
        "import skimage\n",
        "from skimage.util import montage\n",
        "\n",
        "import random\n",
        "import pandas as pd\n",
        "!pip install pyradiomics\n",
        "import os\n",
        "from radiomics import featureextractor\n",
        "import radiomics\n",
        "\n",
        "import keras.backend as K\n",
        "# import keras\n",
        "# from ensorflow import keras\n",
        "from keras import layers\n",
        "from keras.models import Model, load_model\n",
        "from keras.layers import Input, BatchNormalization, Activation, Dense, Dropout,Maximum,Flatten\n",
        "from keras.layers.core import Lambda, RepeatVector, Reshape\n",
        "from keras.layers.convolutional import Conv2D, Conv2DTranspose,Conv3D,Conv3DTranspose,UpSampling2D\n",
        "# from tensorflow.keras.layers.convolutional import Conv2D, Conv2DTranspose,Conv3D,Conv3DTranspose,UpSampling2D\n",
        "# from tensorflow.keras.layers.convolutional import Conv2D, Conv2DTranspose,Conv3D,Conv3DTranspose,UpSampling2D\n",
        "from keras.layers.pooling import MaxPooling2D, GlobalMaxPool2D,MaxPooling3D,AveragePooling2D\n",
        "from keras.layers.merge import concatenate, add\n",
        "from keras.callbacks import EarlyStopping, ModelCheckpoint, ReduceLROnPlateau\n",
        "from keras.optimizers import Adam\n",
        "from keras.preprocessing.image import ImageDataGenerator, array_to_img, img_to_array, load_img\n",
        "\n",
        "from skimage.io import imread, imshow, concatenate_images\n",
        "from skimage.transform import resize\n",
        "from sklearn.utils import class_weight\n",
        "from keras.models import Sequential\n",
        "\n",
        "\n",
        "# This Python 3 environment comes with many helpful analytics libraries installed\n",
        "# It is defined by the kaggle/python Docker image: https://github.com/kaggle/docker-python\n",
        "# For example, here's several helpful packages to load\n",
        "\n",
        "import csv"
      ],
      "execution_count": 1,
      "outputs": [
        {
          "output_type": "stream",
          "text": [
            "Requirement already satisfied: pyradiomics in /usr/local/lib/python3.6/dist-packages (3.0)\n",
            "Requirement already satisfied: PyWavelets<=1.0.0,>=0.4.0 in /usr/local/lib/python3.6/dist-packages (from pyradiomics) (1.0.0)\n",
            "Requirement already satisfied: pykwalify>=1.6.0 in /usr/local/lib/python3.6/dist-packages (from pyradiomics) (1.7.0)\n",
            "Requirement already satisfied: six>=1.10.0 in /usr/local/lib/python3.6/dist-packages (from pyradiomics) (1.15.0)\n",
            "Requirement already satisfied: SimpleITK>=0.9.1 in /usr/local/lib/python3.6/dist-packages (from pyradiomics) (1.2.4)\n",
            "Requirement already satisfied: numpy>=1.9.2 in /usr/local/lib/python3.6/dist-packages (from pyradiomics) (1.18.5)\n",
            "Requirement already satisfied: python-dateutil>=2.4.2 in /usr/local/lib/python3.6/dist-packages (from pykwalify>=1.6.0->pyradiomics) (2.8.1)\n",
            "Requirement already satisfied: PyYAML>=3.11 in /usr/local/lib/python3.6/dist-packages (from pykwalify>=1.6.0->pyradiomics) (3.13)\n",
            "Requirement already satisfied: docopt>=0.6.2 in /usr/local/lib/python3.6/dist-packages (from pykwalify>=1.6.0->pyradiomics) (0.6.2)\n"
          ],
          "name": "stdout"
        }
      ]
    },
    {
      "cell_type": "markdown",
      "metadata": {
        "id": "676N9VhvYl2X",
        "colab_type": "text"
      },
      "source": [
        "2. Linking Dataset from drive"
      ]
    },
    {
      "cell_type": "code",
      "metadata": {
        "id": "o6JmR8tTrIGj",
        "colab_type": "code",
        "colab": {
          "base_uri": "https://localhost:8080/",
          "height": 54
        },
        "outputId": "7c767d75-2795-48e8-f1f8-3c99bd74ac9d"
      },
      "source": [
        "#link drive\n",
        "from google.colab import drive\n",
        "drive.mount('/content/drive')"
      ],
      "execution_count": 2,
      "outputs": [
        {
          "output_type": "stream",
          "text": [
            "Drive already mounted at /content/drive; to attempt to forcibly remount, call drive.mount(\"/content/drive\", force_remount=True).\n"
          ],
          "name": "stdout"
        }
      ]
    },
    {
      "cell_type": "markdown",
      "metadata": {
        "id": "bdtVleGHsoRy",
        "colab_type": "text"
      },
      "source": [
        "3. Reading and displaying one test image"
      ]
    },
    {
      "cell_type": "code",
      "metadata": {
        "id": "9A6-uxeSsK8W",
        "colab_type": "code",
        "colab": {
          "base_uri": "https://localhost:8080/",
          "height": 782
        },
        "outputId": "c72092c2-af53-45b8-b0c9-e380bcc6c488"
      },
      "source": [
        "#read and display first image file\n",
        "test_image_path = '/content/drive/My Drive/Colab Notebooks/MICCAI_BraTS2020_TrainingData/MICCAI_BraTS2020_TrainingData/BraTS20_Training_001/BraTS20_Training_001_seg.nii.gz'\n",
        "test_img = nib.load(test_image_path)\n",
        "test_image = nib.load(test_image_path).get_fdata()\n",
        "\n",
        "print(test_image.shape)\n",
        "print(test_img.header)\n",
        "#print(type(test_image))\n",
        "#print(test_image[1])\n"
      ],
      "execution_count": 3,
      "outputs": [
        {
          "output_type": "stream",
          "text": [
            "(240, 240, 155)\n",
            "<class 'nibabel.nifti1.Nifti1Header'> object, endian='<'\n",
            "sizeof_hdr      : 348\n",
            "data_type       : b''\n",
            "db_name         : b''\n",
            "extents         : 0\n",
            "session_error   : 0\n",
            "regular         : b'r'\n",
            "dim_info        : 0\n",
            "dim             : [  3 240 240 155   1   1   1   1]\n",
            "intent_p1       : 0.0\n",
            "intent_p2       : 0.0\n",
            "intent_p3       : 0.0\n",
            "intent_code     : none\n",
            "datatype        : uint8\n",
            "bitpix          : 8\n",
            "slice_start     : 0\n",
            "pixdim          : [1. 1. 1. 1. 0. 0. 0. 0.]\n",
            "vox_offset      : 0.0\n",
            "scl_slope       : nan\n",
            "scl_inter       : nan\n",
            "slice_end       : 0\n",
            "slice_code      : unknown\n",
            "xyzt_units      : 2\n",
            "cal_max         : 0.0\n",
            "cal_min         : 0.0\n",
            "slice_duration  : 0.0\n",
            "toffset         : 0.0\n",
            "glmax           : 0\n",
            "glmin           : 0\n",
            "descrip         : b''\n",
            "aux_file        : b''\n",
            "qform_code      : scanner\n",
            "sform_code      : scanner\n",
            "quatern_b       : 0.0\n",
            "quatern_c       : 0.0\n",
            "quatern_d       : 1.0\n",
            "qoffset_x       : 0.0\n",
            "qoffset_y       : 239.0\n",
            "qoffset_z       : 0.0\n",
            "srow_x          : [-1. -0. -0.  0.]\n",
            "srow_y          : [ -0.  -1.  -0. 239.]\n",
            "srow_z          : [0. 0. 1. 0.]\n",
            "intent_name     : b''\n",
            "magic           : b'n+1'\n"
          ],
          "name": "stdout"
        }
      ]
    },
    {
      "cell_type": "code",
      "metadata": {
        "id": "Ame3y1ABrowx",
        "colab_type": "code",
        "colab": {}
      },
      "source": [
        "#function to display image slices\n",
        "def show_slices(slices):\n",
        "  fig, axes = plt.subplots(1,len(slices))\n",
        "  for i, slice in enumerate(slices):\n",
        "    axes[i].imshow(slice.T, cmap=\"gray\", origin=\"lower\")"
      ],
      "execution_count": 4,
      "outputs": []
    },
    {
      "cell_type": "code",
      "metadata": {
        "id": "sKVlxZc1rqPk",
        "colab_type": "code",
        "colab": {
          "base_uri": "https://localhost:8080/",
          "height": 146
        },
        "outputId": "1466bcd9-9cfd-49d2-f79d-411dc00ade92"
      },
      "source": [
        "#displaying the image in all axes\n",
        "slice_0 = test_image[120, :, :]\n",
        "slice_1 = test_image[:, 120, :]\n",
        "slice_2 = test_image[:, :, 78]\n",
        "show_slices([slice_0, slice_1, slice_2])"
      ],
      "execution_count": 5,
      "outputs": [
        {
          "output_type": "display_data",
          "data": {
            "image/png": "[encoded data removed]",
            "text/plain": [
              "<Figure size 432x288 with 3 Axes>"
            ]
          },
          "metadata": {
            "tags": [],
            "needs_background": "light"
          }
        }
      ]
    },
    {
      "cell_type": "code",
      "metadata": {
        "id": "lgayl56H9w0I",
        "colab_type": "code",
        "colab": {
          "base_uri": "https://localhost:8080/",
          "height": 976
        },
        "outputId": "3f07afd8-122b-4036-cf6a-ce5bee52338c"
      },
      "source": [
        "#displaying a montage of the image in x axis\n",
        "fig, ax1 = plt.subplots(1, 1, figsize = (20, 20))\n",
        "ax1.imshow(montage(test_image), cmap ='gray')"
      ],
      "execution_count": 6,
      "outputs": [
        {
          "output_type": "execute_result",
          "data": {
            "text/plain": [
              "<matplotlib.image.AxesImage at 0x7f88bf492400>"
            ]
          },
          "metadata": {
            "tags": []
          },
          "execution_count": 6
        },
        {
          "output_type": "display_data",
          "data": {
            "image/png": "[encoded data removed]",
            "text/plain": [
              "<Figure size 1440x1440 with 1 Axes>"
            ]
          },
          "metadata": {
            "tags": [],
            "needs_background": "light"
          }
        }
      ]
    },
    {
      "cell_type": "code",
      "metadata": {
        "id": "HIY-OeskLjg8",
        "colab_type": "code",
        "colab": {}
      },
      "source": [
        "#creating a separate dataset segregated by modality\n",
        "#import shutil,os\n",
        "#dataset_dir_path = '/content/drive/My Drive/Colab Notebooks/MICCAI_BraTS2020_TrainingData/MICCAI_BraTS2020_TrainingData'\n",
        "#for training_sample_folder in os.listdir(dataset_dir_path) :\n",
        "#  if(not(training_sample_folder.endswith(\".csv\"))):\n",
        "#    for filename in os.listdir(os.path.join(dataset_dir_path,training_sample_folder)) :\n",
        "#      x = filename.split('_')\n",
        "#      image_type = x[3]\n",
        "#      dir_path = os.path.join(dataset_dir_path,training_sample_folder)\n",
        "#      if(image_type == \"flair.nii.gz\"):\n",
        "#        shutil.copy((os.path.join(dir_path, filename)) , '/content/separate_dataset/flair')\n",
        "#      if(image_type == \"seg.nii.gz\"):\n",
        "#        shutil.copy((os.path.join(dir_path, filename)) , '/content/separate_dataset/seg')\n",
        "#      if(image_type == 't1ce.nii.gz'):\n",
        "#        shutil.copy((os.path.join(dir_path, filename)) , '/content/separate_dataset/t1ce')\n",
        "#      if(image_type == 't1.nii.gz'):\n",
        "#        shutil.copy((os.path.join(dir_path, filename)) , '/content/separate_dataset/t1')\n",
        "#      if(image_type == 't2.nii.gz'):\n",
        "#        shutil.copy((os.path.join(dir_path, filename)) , '/content/separate_dataset/t2')\n"
      ],
      "execution_count": 7,
      "outputs": []
    },
    {
      "cell_type": "markdown",
      "metadata": {
        "id": "OygYM_cyxy0T",
        "colab_type": "text"
      },
      "source": [
        "Check link [Manipulating Brain MRI](https://www.datacamp.com/community/tutorials/reconstructing-brain-images-deep-learning)"
      ]
    },
    {
      "cell_type": "code",
      "metadata": {
        "id": "Y0Ef60rwfD5x",
        "colab_type": "code",
        "colab": {
          "base_uri": "https://localhost:8080/",
          "height": 239
        },
        "outputId": "209ab07f-58a9-4d5f-a471-ca7bcadac19f"
      },
      "source": [
        "'''\n",
        "#reading survival_info csv file and displaying data \n",
        "\n",
        "import csv\n",
        "\n",
        "survival_info_path = '/content/drive/My Drive/Colab Notebooks/MICCAI_BraTS2020_TrainingData/survival_info.csv'\n",
        "\n",
        "age_dict = {}\n",
        "days_dict = {}\n",
        "\n",
        "with open(survival_info_path, mode='r') as csv_file:\n",
        "    csv_reader = csv.reader(csv_file,delimiter = ',')\n",
        "    line_count = 0\n",
        "    a = 0\n",
        "    b = 0\n",
        "    c = 0\n",
        "    max_days = 0\n",
        "    for row in csv_reader:\n",
        "        if line_count == 0:\n",
        "            print(f'Column names are {\", \".join(row)}')\n",
        "            line_count += 1\n",
        "        else:\n",
        "            print(row)\n",
        "            key = row[0]\n",
        "            age = row[1]\n",
        "            days = row[2]\n",
        "            age_dict[key] = float(age)\n",
        "            days_dict[key] = int(days)\n",
        "            max_days = max(max_days,int(days))\n",
        "            if int(days) < 250:\n",
        "                a += 1\n",
        "            elif (int(days) >= 250 and int(days) <= 500):\n",
        "                b += 1\n",
        "            else:\n",
        "                c += 1\n",
        "            line_count+=1\n",
        "\n",
        "    print(f'Processed {line_count} lines.')\n",
        "    #age_m = np.zeros((1,1))\n",
        "    print(a,b,c)\n",
        "    print(max_days)\n",
        "'''"
      ],
      "execution_count": 8,
      "outputs": [
        {
          "output_type": "execute_result",
          "data": {
            "application/vnd.google.colaboratory.intrinsic+json": {
              "type": "string"
            },
            "text/plain": [
              "'\\n#reading survival_info csv file and displaying data \\n\\nimport csv\\n\\nsurvival_info_path = \\'/content/drive/My Drive/Colab Notebooks/MICCAI_BraTS2020_TrainingData/survival_info.csv\\'\\n\\nage_dict = {}\\ndays_dict = {}\\n\\nwith open(survival_info_path, mode=\\'r\\') as csv_file:\\n    csv_reader = csv.reader(csv_file,delimiter = \\',\\')\\n    line_count = 0\\n    a = 0\\n    b = 0\\n    c = 0\\n    max_days = 0\\n    for row in csv_reader:\\n        if line_count == 0:\\n            print(f\\'Column names are {\", \".join(row)}\\')\\n            line_count += 1\\n        else:\\n            print(row)\\n            key = row[0]\\n            age = row[1]\\n            days = row[2]\\n            age_dict[key] = float(age)\\n            days_dict[key] = int(days)\\n            max_days = max(max_days,int(days))\\n            if int(days) < 250:\\n                a += 1\\n            elif (int(days) >= 250 and int(days) <= 500):\\n                b += 1\\n            else:\\n                c += 1\\n            line_count+=1\\n\\n    print(f\\'Processed {line_count} lines.\\')\\n    #age_m = np.zeros((1,1))\\n    print(a,b,c)\\n    print(max_days)\\n'"
            ]
          },
          "metadata": {
            "tags": []
          },
          "execution_count": 8
        }
      ]
    },
    {
      "cell_type": "code",
      "metadata": {
        "id": "qoplueb8Tw5G",
        "colab_type": "code",
        "colab": {
          "base_uri": "https://localhost:8080/",
          "height": 1000
        },
        "outputId": "f2df17e5-d431-455f-9489-0839ce0a9109"
      },
      "source": [
        "#Extracting features and storing in features.csv file\n",
        "\n",
        "survival_info_path = '/content/drive/My Drive/Colab Notebooks/MICCAI_BraTS2020_TrainingData/survival_info.csv'\n",
        "age_dict = {}\n",
        "days_dict = {}\n",
        "keys = []\n",
        "line_count = 0\n",
        "\n",
        "#reading survival_info.csv file and storing the given image id's in array, and age and survival days in dict\n",
        "with open(survival_info_path, mode='r') as csv_file:\n",
        "    csv_reader = csv.reader(csv_file,delimiter = ',')\n",
        "    for row in csv_reader:\n",
        "        if line_count == 0:\n",
        "            line_count += 1\n",
        "        else:\n",
        "          keys.append(row[0])\n",
        "          age = row[1]\n",
        "          days = row[2]\n",
        "          age_dict[row[0]] = float(age)\n",
        "          days_dict[row[0]] = int(days)         \n",
        "\n",
        "#print(keys)\n",
        "\n",
        "#param file and intializing extractor\n",
        "paramPath = os.path.join(os.getcwd(), \"..\", \"Params.yaml\")\n",
        "#print (\"Parameter file, absolute path:\", os.path.abspath(paramPath))\n",
        "settings = {'label': 2} #specifying the ROI\n",
        "extractor = featureextractor.RadiomicsFeatureExtractor(additionalInfo=True, **settings)\n",
        "count=0\n",
        "\n",
        "#fetching flair and seg files and assigning to extractor\n",
        "\n",
        "dataset_dir_path = '/content/drive/My Drive/Colab Notebooks/MICCAI_BraTS2020_TrainingData/MICCAI_BraTS2020_TrainingData'\n",
        "\n",
        "with open('/content/drive/My Drive/Colab Notebooks/MICCAI_BraTS2020_TrainingData/features.csv', 'w', newline='') as csvfile:\n",
        "      writer_var = csv.writer(csvfile, delimiter=',')\n",
        "      writer_var.writerow(['ID', 'Age', 'Survival_Days', 'original_shape_VoxelVolume', 'original_shape_SurfaceArea', 'original_shape_MajorAxisLength'])\n",
        "      for id in keys:\n",
        "        print(id)\n",
        "        training_sample = os.path.join(dataset_dir_path,id) \n",
        "        for filename in os.listdir(training_sample):\n",
        "          x = filename.split('_')\n",
        "          image_type = x[3]\n",
        "          if(image_type == \"flair.nii.gz\"):\n",
        "            flair_file = filename\n",
        "          if(image_type == \"seg.nii.gz\"):\n",
        "            seg_file = filename\n",
        "        # Store the file paths of testing image and label map into two variables\n",
        "        imagePath = os.path.join(training_sample, flair_file)\n",
        "        maskPath = os.path.join(training_sample, seg_file)\n",
        "\n",
        "        #print(\"Extraction parameter:\\n\\t\", extractor.settings)\n",
        "        #print(\"Enabled filter:\\n\\t\", extractor.enabledImagetypes)\n",
        "        #print(\"Enabled feature:\\n\\t\", extractor.enabledFeatures)\n",
        "\n",
        "\n",
        "        #extract features\n",
        "        result = extractor.execute(imagePath, maskPath)\n",
        "\n",
        "        #store extracted features and other features in features.csv\n",
        "        writer_var.writerow([id,age_dict[id],days_dict[id],result['original_shape_VoxelVolume'], result['original_shape_SurfaceArea'], result['original_shape_MajorAxisLength']])\n",
        "\n",
        "\n"
      ],
      "execution_count": 10,
      "outputs": [
        {
          "output_type": "stream",
          "text": [
            "BraTS20_Training_001\n"
          ],
          "name": "stdout"
        },
        {
          "output_type": "stream",
          "text": [
            "GLCM is symmetrical, therefore Sum Average = 2 * Joint Average, only 1 needs to be calculated\n"
          ],
          "name": "stderr"
        },
        {
          "output_type": "stream",
          "text": [
            "BraTS20_Training_002\n"
          ],
          "name": "stdout"
        },
        {
          "output_type": "stream",
          "text": [
            "GLCM is symmetrical, therefore Sum Average = 2 * Joint Average, only 1 needs to be calculated\n"
          ],
          "name": "stderr"
        },
        {
          "output_type": "stream",
          "text": [
            "BraTS20_Training_003\n"
          ],
          "name": "stdout"
        },
        {
          "output_type": "stream",
          "text": [
            "GLCM is symmetrical, therefore Sum Average = 2 * Joint Average, only 1 needs to be calculated\n"
          ],
          "name": "stderr"
        },
        {
          "output_type": "stream",
          "text": [
            "BraTS20_Training_004\n"
          ],
          "name": "stdout"
        },
        {
          "output_type": "stream",
          "text": [
            "GLCM is symmetrical, therefore Sum Average = 2 * Joint Average, only 1 needs to be calculated\n"
          ],
          "name": "stderr"
        },
        {
          "output_type": "stream",
          "text": [
            "BraTS20_Training_005\n"
          ],
          "name": "stdout"
        },
        {
          "output_type": "stream",
          "text": [
            "GLCM is symmetrical, therefore Sum Average = 2 * Joint Average, only 1 needs to be calculated\n"
          ],
          "name": "stderr"
        },
        {
          "output_type": "stream",
          "text": [
            "BraTS20_Training_006\n"
          ],
          "name": "stdout"
        },
        {
          "output_type": "stream",
          "text": [
            "GLCM is symmetrical, therefore Sum Average = 2 * Joint Average, only 1 needs to be calculated\n"
          ],
          "name": "stderr"
        },
        {
          "output_type": "stream",
          "text": [
            "BraTS20_Training_007\n"
          ],
          "name": "stdout"
        },
        {
          "output_type": "stream",
          "text": [
            "GLCM is symmetrical, therefore Sum Average = 2 * Joint Average, only 1 needs to be calculated\n"
          ],
          "name": "stderr"
        },
        {
          "output_type": "stream",
          "text": [
            "BraTS20_Training_008\n"
          ],
          "name": "stdout"
        },
        {
          "output_type": "stream",
          "text": [
            "GLCM is symmetrical, therefore Sum Average = 2 * Joint Average, only 1 needs to be calculated\n"
          ],
          "name": "stderr"
        },
        {
          "output_type": "stream",
          "text": [
            "BraTS20_Training_009\n"
          ],
          "name": "stdout"
        },
        {
          "output_type": "stream",
          "text": [
            "GLCM is symmetrical, therefore Sum Average = 2 * Joint Average, only 1 needs to be calculated\n"
          ],
          "name": "stderr"
        },
        {
          "output_type": "stream",
          "text": [
            "BraTS20_Training_010\n"
          ],
          "name": "stdout"
        },
        {
          "output_type": "stream",
          "text": [
            "GLCM is symmetrical, therefore Sum Average = 2 * Joint Average, only 1 needs to be calculated\n"
          ],
          "name": "stderr"
        },
        {
          "output_type": "stream",
          "text": [
            "BraTS20_Training_011\n"
          ],
          "name": "stdout"
        },
        {
          "output_type": "stream",
          "text": [
            "GLCM is symmetrical, therefore Sum Average = 2 * Joint Average, only 1 needs to be calculated\n"
          ],
          "name": "stderr"
        },
        {
          "output_type": "stream",
          "text": [
            "BraTS20_Training_012\n"
          ],
          "name": "stdout"
        },
        {
          "output_type": "stream",
          "text": [
            "GLCM is symmetrical, therefore Sum Average = 2 * Joint Average, only 1 needs to be calculated\n"
          ],
          "name": "stderr"
        },
        {
          "output_type": "stream",
          "text": [
            "BraTS20_Training_013\n"
          ],
          "name": "stdout"
        },
        {
          "output_type": "stream",
          "text": [
            "GLCM is symmetrical, therefore Sum Average = 2 * Joint Average, only 1 needs to be calculated\n"
          ],
          "name": "stderr"
        },
        {
          "output_type": "stream",
          "text": [
            "BraTS20_Training_014\n"
          ],
          "name": "stdout"
        },
        {
          "output_type": "stream",
          "text": [
            "GLCM is symmetrical, therefore Sum Average = 2 * Joint Average, only 1 needs to be calculated\n"
          ],
          "name": "stderr"
        },
        {
          "output_type": "stream",
          "text": [
            "BraTS20_Training_015\n"
          ],
          "name": "stdout"
        },
        {
          "output_type": "stream",
          "text": [
            "GLCM is symmetrical, therefore Sum Average = 2 * Joint Average, only 1 needs to be calculated\n"
          ],
          "name": "stderr"
        },
        {
          "output_type": "stream",
          "text": [
            "BraTS20_Training_016\n"
          ],
          "name": "stdout"
        },
        {
          "output_type": "stream",
          "text": [
            "GLCM is symmetrical, therefore Sum Average = 2 * Joint Average, only 1 needs to be calculated\n"
          ],
          "name": "stderr"
        },
        {
          "output_type": "stream",
          "text": [
            "BraTS20_Training_017\n"
          ],
          "name": "stdout"
        },
        {
          "output_type": "stream",
          "text": [
            "GLCM is symmetrical, therefore Sum Average = 2 * Joint Average, only 1 needs to be calculated\n"
          ],
          "name": "stderr"
        },
        {
          "output_type": "stream",
          "text": [
            "BraTS20_Training_018\n"
          ],
          "name": "stdout"
        },
        {
          "output_type": "stream",
          "text": [
            "GLCM is symmetrical, therefore Sum Average = 2 * Joint Average, only 1 needs to be calculated\n"
          ],
          "name": "stderr"
        },
        {
          "output_type": "stream",
          "text": [
            "BraTS20_Training_019\n"
          ],
          "name": "stdout"
        },
        {
          "output_type": "stream",
          "text": [
            "GLCM is symmetrical, therefore Sum Average = 2 * Joint Average, only 1 needs to be calculated\n"
          ],
          "name": "stderr"
        },
        {
          "output_type": "stream",
          "text": [
            "BraTS20_Training_020\n"
          ],
          "name": "stdout"
        },
        {
          "output_type": "stream",
          "text": [
            "GLCM is symmetrical, therefore Sum Average = 2 * Joint Average, only 1 needs to be calculated\n"
          ],
          "name": "stderr"
        },
        {
          "output_type": "stream",
          "text": [
            "BraTS20_Training_021\n"
          ],
          "name": "stdout"
        },
        {
          "output_type": "stream",
          "text": [
            "GLCM is symmetrical, therefore Sum Average = 2 * Joint Average, only 1 needs to be calculated\n"
          ],
          "name": "stderr"
        },
        {
          "output_type": "stream",
          "text": [
            "BraTS20_Training_022\n"
          ],
          "name": "stdout"
        },
        {
          "output_type": "stream",
          "text": [
            "GLCM is symmetrical, therefore Sum Average = 2 * Joint Average, only 1 needs to be calculated\n"
          ],
          "name": "stderr"
        },
        {
          "output_type": "stream",
          "text": [
            "BraTS20_Training_023\n"
          ],
          "name": "stdout"
        },
        {
          "output_type": "stream",
          "text": [
            "GLCM is symmetrical, therefore Sum Average = 2 * Joint Average, only 1 needs to be calculated\n"
          ],
          "name": "stderr"
        },
        {
          "output_type": "stream",
          "text": [
            "BraTS20_Training_024\n"
          ],
          "name": "stdout"
        },
        {
          "output_type": "stream",
          "text": [
            "GLCM is symmetrical, therefore Sum Average = 2 * Joint Average, only 1 needs to be calculated\n"
          ],
          "name": "stderr"
        },
        {
          "output_type": "stream",
          "text": [
            "BraTS20_Training_025\n"
          ],
          "name": "stdout"
        },
        {
          "output_type": "stream",
          "text": [
            "GLCM is symmetrical, therefore Sum Average = 2 * Joint Average, only 1 needs to be calculated\n"
          ],
          "name": "stderr"
        },
        {
          "output_type": "stream",
          "text": [
            "BraTS20_Training_026\n"
          ],
          "name": "stdout"
        },
        {
          "output_type": "stream",
          "text": [
            "GLCM is symmetrical, therefore Sum Average = 2 * Joint Average, only 1 needs to be calculated\n"
          ],
          "name": "stderr"
        },
        {
          "output_type": "stream",
          "text": [
            "BraTS20_Training_027\n"
          ],
          "name": "stdout"
        },
        {
          "output_type": "stream",
          "text": [
            "GLCM is symmetrical, therefore Sum Average = 2 * Joint Average, only 1 needs to be calculated\n"
          ],
          "name": "stderr"
        },
        {
          "output_type": "stream",
          "text": [
            "BraTS20_Training_028\n"
          ],
          "name": "stdout"
        },
        {
          "output_type": "stream",
          "text": [
            "GLCM is symmetrical, therefore Sum Average = 2 * Joint Average, only 1 needs to be calculated\n"
          ],
          "name": "stderr"
        },
        {
          "output_type": "stream",
          "text": [
            "BraTS20_Training_029\n"
          ],
          "name": "stdout"
        },
        {
          "output_type": "stream",
          "text": [
            "GLCM is symmetrical, therefore Sum Average = 2 * Joint Average, only 1 needs to be calculated\n"
          ],
          "name": "stderr"
        },
        {
          "output_type": "stream",
          "text": [
            "BraTS20_Training_030\n"
          ],
          "name": "stdout"
        },
        {
          "output_type": "stream",
          "text": [
            "GLCM is symmetrical, therefore Sum Average = 2 * Joint Average, only 1 needs to be calculated\n"
          ],
          "name": "stderr"
        },
        {
          "output_type": "stream",
          "text": [
            "BraTS20_Training_031\n"
          ],
          "name": "stdout"
        },
        {
          "output_type": "stream",
          "text": [
            "GLCM is symmetrical, therefore Sum Average = 2 * Joint Average, only 1 needs to be calculated\n"
          ],
          "name": "stderr"
        },
        {
          "output_type": "stream",
          "text": [
            "BraTS20_Training_032\n"
          ],
          "name": "stdout"
        },
        {
          "output_type": "stream",
          "text": [
            "GLCM is symmetrical, therefore Sum Average = 2 * Joint Average, only 1 needs to be calculated\n"
          ],
          "name": "stderr"
        },
        {
          "output_type": "stream",
          "text": [
            "BraTS20_Training_033\n"
          ],
          "name": "stdout"
        },
        {
          "output_type": "stream",
          "text": [
            "GLCM is symmetrical, therefore Sum Average = 2 * Joint Average, only 1 needs to be calculated\n"
          ],
          "name": "stderr"
        },
        {
          "output_type": "stream",
          "text": [
            "BraTS20_Training_034\n"
          ],
          "name": "stdout"
        },
        {
          "output_type": "stream",
          "text": [
            "GLCM is symmetrical, therefore Sum Average = 2 * Joint Average, only 1 needs to be calculated\n"
          ],
          "name": "stderr"
        },
        {
          "output_type": "stream",
          "text": [
            "BraTS20_Training_035\n"
          ],
          "name": "stdout"
        },
        {
          "output_type": "stream",
          "text": [
            "GLCM is symmetrical, therefore Sum Average = 2 * Joint Average, only 1 needs to be calculated\n"
          ],
          "name": "stderr"
        },
        {
          "output_type": "stream",
          "text": [
            "BraTS20_Training_036\n"
          ],
          "name": "stdout"
        },
        {
          "output_type": "stream",
          "text": [
            "GLCM is symmetrical, therefore Sum Average = 2 * Joint Average, only 1 needs to be calculated\n"
          ],
          "name": "stderr"
        },
        {
          "output_type": "stream",
          "text": [
            "BraTS20_Training_037\n"
          ],
          "name": "stdout"
        },
        {
          "output_type": "stream",
          "text": [
            "GLCM is symmetrical, therefore Sum Average = 2 * Joint Average, only 1 needs to be calculated\n"
          ],
          "name": "stderr"
        },
        {
          "output_type": "stream",
          "text": [
            "BraTS20_Training_038\n"
          ],
          "name": "stdout"
        },
        {
          "output_type": "stream",
          "text": [
            "GLCM is symmetrical, therefore Sum Average = 2 * Joint Average, only 1 needs to be calculated\n"
          ],
          "name": "stderr"
        },
        {
          "output_type": "stream",
          "text": [
            "BraTS20_Training_039\n"
          ],
          "name": "stdout"
        },
        {
          "output_type": "stream",
          "text": [
            "GLCM is symmetrical, therefore Sum Average = 2 * Joint Average, only 1 needs to be calculated\n"
          ],
          "name": "stderr"
        },
        {
          "output_type": "stream",
          "text": [
            "BraTS20_Training_040\n"
          ],
          "name": "stdout"
        },
        {
          "output_type": "stream",
          "text": [
            "GLCM is symmetrical, therefore Sum Average = 2 * Joint Average, only 1 needs to be calculated\n"
          ],
          "name": "stderr"
        },
        {
          "output_type": "stream",
          "text": [
            "BraTS20_Training_041\n"
          ],
          "name": "stdout"
        },
        {
          "output_type": "stream",
          "text": [
            "GLCM is symmetrical, therefore Sum Average = 2 * Joint Average, only 1 needs to be calculated\n"
          ],
          "name": "stderr"
        },
        {
          "output_type": "stream",
          "text": [
            "BraTS20_Training_042\n"
          ],
          "name": "stdout"
        },
        {
          "output_type": "stream",
          "text": [
            "GLCM is symmetrical, therefore Sum Average = 2 * Joint Average, only 1 needs to be calculated\n"
          ],
          "name": "stderr"
        },
        {
          "output_type": "stream",
          "text": [
            "BraTS20_Training_043\n"
          ],
          "name": "stdout"
        },
        {
          "output_type": "stream",
          "text": [
            "GLCM is symmetrical, therefore Sum Average = 2 * Joint Average, only 1 needs to be calculated\n"
          ],
          "name": "stderr"
        },
        {
          "output_type": "stream",
          "text": [
            "BraTS20_Training_044\n"
          ],
          "name": "stdout"
        },
        {
          "output_type": "stream",
          "text": [
            "GLCM is symmetrical, therefore Sum Average = 2 * Joint Average, only 1 needs to be calculated\n"
          ],
          "name": "stderr"
        },
        {
          "output_type": "stream",
          "text": [
            "BraTS20_Training_045\n"
          ],
          "name": "stdout"
        },
        {
          "output_type": "stream",
          "text": [
            "GLCM is symmetrical, therefore Sum Average = 2 * Joint Average, only 1 needs to be calculated\n"
          ],
          "name": "stderr"
        },
        {
          "output_type": "stream",
          "text": [
            "BraTS20_Training_046\n"
          ],
          "name": "stdout"
        },
        {
          "output_type": "stream",
          "text": [
            "GLCM is symmetrical, therefore Sum Average = 2 * Joint Average, only 1 needs to be calculated\n"
          ],
          "name": "stderr"
        },
        {
          "output_type": "stream",
          "text": [
            "BraTS20_Training_047\n"
          ],
          "name": "stdout"
        },
        {
          "output_type": "stream",
          "text": [
            "GLCM is symmetrical, therefore Sum Average = 2 * Joint Average, only 1 needs to be calculated\n"
          ],
          "name": "stderr"
        },
        {
          "output_type": "stream",
          "text": [
            "BraTS20_Training_048\n"
          ],
          "name": "stdout"
        },
        {
          "output_type": "stream",
          "text": [
            "GLCM is symmetrical, therefore Sum Average = 2 * Joint Average, only 1 needs to be calculated\n"
          ],
          "name": "stderr"
        },
        {
          "output_type": "stream",
          "text": [
            "BraTS20_Training_049\n"
          ],
          "name": "stdout"
        },
        {
          "output_type": "stream",
          "text": [
            "GLCM is symmetrical, therefore Sum Average = 2 * Joint Average, only 1 needs to be calculated\n"
          ],
          "name": "stderr"
        },
        {
          "output_type": "stream",
          "text": [
            "BraTS20_Training_050\n"
          ],
          "name": "stdout"
        },
        {
          "output_type": "stream",
          "text": [
            "GLCM is symmetrical, therefore Sum Average = 2 * Joint Average, only 1 needs to be calculated\n"
          ],
          "name": "stderr"
        },
        {
          "output_type": "stream",
          "text": [
            "BraTS20_Training_051\n"
          ],
          "name": "stdout"
        },
        {
          "output_type": "stream",
          "text": [
            "GLCM is symmetrical, therefore Sum Average = 2 * Joint Average, only 1 needs to be calculated\n"
          ],
          "name": "stderr"
        },
        {
          "output_type": "stream",
          "text": [
            "BraTS20_Training_052\n"
          ],
          "name": "stdout"
        },
        {
          "output_type": "stream",
          "text": [
            "GLCM is symmetrical, therefore Sum Average = 2 * Joint Average, only 1 needs to be calculated\n"
          ],
          "name": "stderr"
        },
        {
          "output_type": "stream",
          "text": [
            "BraTS20_Training_053\n"
          ],
          "name": "stdout"
        },
        {
          "output_type": "stream",
          "text": [
            "GLCM is symmetrical, therefore Sum Average = 2 * Joint Average, only 1 needs to be calculated\n"
          ],
          "name": "stderr"
        },
        {
          "output_type": "stream",
          "text": [
            "BraTS20_Training_054\n"
          ],
          "name": "stdout"
        },
        {
          "output_type": "stream",
          "text": [
            "GLCM is symmetrical, therefore Sum Average = 2 * Joint Average, only 1 needs to be calculated\n"
          ],
          "name": "stderr"
        },
        {
          "output_type": "stream",
          "text": [
            "BraTS20_Training_055\n"
          ],
          "name": "stdout"
        },
        {
          "output_type": "stream",
          "text": [
            "GLCM is symmetrical, therefore Sum Average = 2 * Joint Average, only 1 needs to be calculated\n"
          ],
          "name": "stderr"
        },
        {
          "output_type": "stream",
          "text": [
            "BraTS20_Training_056\n"
          ],
          "name": "stdout"
        },
        {
          "output_type": "stream",
          "text": [
            "GLCM is symmetrical, therefore Sum Average = 2 * Joint Average, only 1 needs to be calculated\n"
          ],
          "name": "stderr"
        },
        {
          "output_type": "stream",
          "text": [
            "BraTS20_Training_057\n"
          ],
          "name": "stdout"
        },
        {
          "output_type": "stream",
          "text": [
            "GLCM is symmetrical, therefore Sum Average = 2 * Joint Average, only 1 needs to be calculated\n"
          ],
          "name": "stderr"
        },
        {
          "output_type": "stream",
          "text": [
            "BraTS20_Training_058\n"
          ],
          "name": "stdout"
        },
        {
          "output_type": "stream",
          "text": [
            "GLCM is symmetrical, therefore Sum Average = 2 * Joint Average, only 1 needs to be calculated\n"
          ],
          "name": "stderr"
        },
        {
          "output_type": "stream",
          "text": [
            "BraTS20_Training_059\n"
          ],
          "name": "stdout"
        },
        {
          "output_type": "stream",
          "text": [
            "GLCM is symmetrical, therefore Sum Average = 2 * Joint Average, only 1 needs to be calculated\n"
          ],
          "name": "stderr"
        },
        {
          "output_type": "stream",
          "text": [
            "BraTS20_Training_060\n"
          ],
          "name": "stdout"
        },
        {
          "output_type": "stream",
          "text": [
            "GLCM is symmetrical, therefore Sum Average = 2 * Joint Average, only 1 needs to be calculated\n"
          ],
          "name": "stderr"
        },
        {
          "output_type": "stream",
          "text": [
            "BraTS20_Training_061\n"
          ],
          "name": "stdout"
        },
        {
          "output_type": "stream",
          "text": [
            "GLCM is symmetrical, therefore Sum Average = 2 * Joint Average, only 1 needs to be calculated\n"
          ],
          "name": "stderr"
        },
        {
          "output_type": "stream",
          "text": [
            "BraTS20_Training_062\n"
          ],
          "name": "stdout"
        },
        {
          "output_type": "stream",
          "text": [
            "GLCM is symmetrical, therefore Sum Average = 2 * Joint Average, only 1 needs to be calculated\n"
          ],
          "name": "stderr"
        },
        {
          "output_type": "stream",
          "text": [
            "BraTS20_Training_063\n"
          ],
          "name": "stdout"
        },
        {
          "output_type": "stream",
          "text": [
            "GLCM is symmetrical, therefore Sum Average = 2 * Joint Average, only 1 needs to be calculated\n"
          ],
          "name": "stderr"
        },
        {
          "output_type": "stream",
          "text": [
            "BraTS20_Training_064\n"
          ],
          "name": "stdout"
        },
        {
          "output_type": "stream",
          "text": [
            "GLCM is symmetrical, therefore Sum Average = 2 * Joint Average, only 1 needs to be calculated\n"
          ],
          "name": "stderr"
        },
        {
          "output_type": "stream",
          "text": [
            "BraTS20_Training_065\n"
          ],
          "name": "stdout"
        },
        {
          "output_type": "stream",
          "text": [
            "GLCM is symmetrical, therefore Sum Average = 2 * Joint Average, only 1 needs to be calculated\n"
          ],
          "name": "stderr"
        },
        {
          "output_type": "stream",
          "text": [
            "BraTS20_Training_066\n"
          ],
          "name": "stdout"
        },
        {
          "output_type": "stream",
          "text": [
            "GLCM is symmetrical, therefore Sum Average = 2 * Joint Average, only 1 needs to be calculated\n"
          ],
          "name": "stderr"
        },
        {
          "output_type": "stream",
          "text": [
            "BraTS20_Training_067\n"
          ],
          "name": "stdout"
        },
        {
          "output_type": "stream",
          "text": [
            "GLCM is symmetrical, therefore Sum Average = 2 * Joint Average, only 1 needs to be calculated\n"
          ],
          "name": "stderr"
        },
        {
          "output_type": "stream",
          "text": [
            "BraTS20_Training_068\n"
          ],
          "name": "stdout"
        },
        {
          "output_type": "stream",
          "text": [
            "GLCM is symmetrical, therefore Sum Average = 2 * Joint Average, only 1 needs to be calculated\n"
          ],
          "name": "stderr"
        },
        {
          "output_type": "stream",
          "text": [
            "BraTS20_Training_069\n"
          ],
          "name": "stdout"
        },
        {
          "output_type": "stream",
          "text": [
            "GLCM is symmetrical, therefore Sum Average = 2 * Joint Average, only 1 needs to be calculated\n"
          ],
          "name": "stderr"
        },
        {
          "output_type": "stream",
          "text": [
            "BraTS20_Training_070\n"
          ],
          "name": "stdout"
        },
        {
          "output_type": "stream",
          "text": [
            "GLCM is symmetrical, therefore Sum Average = 2 * Joint Average, only 1 needs to be calculated\n"
          ],
          "name": "stderr"
        },
        {
          "output_type": "stream",
          "text": [
            "BraTS20_Training_071\n"
          ],
          "name": "stdout"
        },
        {
          "output_type": "stream",
          "text": [
            "GLCM is symmetrical, therefore Sum Average = 2 * Joint Average, only 1 needs to be calculated\n"
          ],
          "name": "stderr"
        },
        {
          "output_type": "stream",
          "text": [
            "BraTS20_Training_072\n"
          ],
          "name": "stdout"
        },
        {
          "output_type": "stream",
          "text": [
            "GLCM is symmetrical, therefore Sum Average = 2 * Joint Average, only 1 needs to be calculated\n"
          ],
          "name": "stderr"
        },
        {
          "output_type": "stream",
          "text": [
            "BraTS20_Training_073\n"
          ],
          "name": "stdout"
        },
        {
          "output_type": "stream",
          "text": [
            "GLCM is symmetrical, therefore Sum Average = 2 * Joint Average, only 1 needs to be calculated\n"
          ],
          "name": "stderr"
        },
        {
          "output_type": "stream",
          "text": [
            "BraTS20_Training_074\n"
          ],
          "name": "stdout"
        },
        {
          "output_type": "stream",
          "text": [
            "GLCM is symmetrical, therefore Sum Average = 2 * Joint Average, only 1 needs to be calculated\n"
          ],
          "name": "stderr"
        },
        {
          "output_type": "stream",
          "text": [
            "BraTS20_Training_075\n"
          ],
          "name": "stdout"
        },
        {
          "output_type": "stream",
          "text": [
            "GLCM is symmetrical, therefore Sum Average = 2 * Joint Average, only 1 needs to be calculated\n"
          ],
          "name": "stderr"
        },
        {
          "output_type": "stream",
          "text": [
            "BraTS20_Training_076\n"
          ],
          "name": "stdout"
        },
        {
          "output_type": "stream",
          "text": [
            "GLCM is symmetrical, therefore Sum Average = 2 * Joint Average, only 1 needs to be calculated\n"
          ],
          "name": "stderr"
        },
        {
          "output_type": "stream",
          "text": [
            "BraTS20_Training_077\n"
          ],
          "name": "stdout"
        },
        {
          "output_type": "stream",
          "text": [
            "GLCM is symmetrical, therefore Sum Average = 2 * Joint Average, only 1 needs to be calculated\n"
          ],
          "name": "stderr"
        },
        {
          "output_type": "stream",
          "text": [
            "BraTS20_Training_078\n"
          ],
          "name": "stdout"
        },
        {
          "output_type": "stream",
          "text": [
            "GLCM is symmetrical, therefore Sum Average = 2 * Joint Average, only 1 needs to be calculated\n"
          ],
          "name": "stderr"
        },
        {
          "output_type": "stream",
          "text": [
            "BraTS20_Training_079\n"
          ],
          "name": "stdout"
        },
        {
          "output_type": "stream",
          "text": [
            "GLCM is symmetrical, therefore Sum Average = 2 * Joint Average, only 1 needs to be calculated\n"
          ],
          "name": "stderr"
        },
        {
          "output_type": "stream",
          "text": [
            "BraTS20_Training_080\n"
          ],
          "name": "stdout"
        },
        {
          "output_type": "stream",
          "text": [
            "GLCM is symmetrical, therefore Sum Average = 2 * Joint Average, only 1 needs to be calculated\n"
          ],
          "name": "stderr"
        },
        {
          "output_type": "stream",
          "text": [
            "BraTS20_Training_081\n"
          ],
          "name": "stdout"
        },
        {
          "output_type": "stream",
          "text": [
            "GLCM is symmetrical, therefore Sum Average = 2 * Joint Average, only 1 needs to be calculated\n"
          ],
          "name": "stderr"
        },
        {
          "output_type": "stream",
          "text": [
            "BraTS20_Training_082\n"
          ],
          "name": "stdout"
        },
        {
          "output_type": "stream",
          "text": [
            "GLCM is symmetrical, therefore Sum Average = 2 * Joint Average, only 1 needs to be calculated\n"
          ],
          "name": "stderr"
        },
        {
          "output_type": "stream",
          "text": [
            "BraTS20_Training_083\n"
          ],
          "name": "stdout"
        },
        {
          "output_type": "stream",
          "text": [
            "GLCM is symmetrical, therefore Sum Average = 2 * Joint Average, only 1 needs to be calculated\n"
          ],
          "name": "stderr"
        },
        {
          "output_type": "stream",
          "text": [
            "BraTS20_Training_084\n"
          ],
          "name": "stdout"
        },
        {
          "output_type": "stream",
          "text": [
            "GLCM is symmetrical, therefore Sum Average = 2 * Joint Average, only 1 needs to be calculated\n"
          ],
          "name": "stderr"
        },
        {
          "output_type": "stream",
          "text": [
            "BraTS20_Training_085\n"
          ],
          "name": "stdout"
        },
        {
          "output_type": "stream",
          "text": [
            "GLCM is symmetrical, therefore Sum Average = 2 * Joint Average, only 1 needs to be calculated\n"
          ],
          "name": "stderr"
        },
        {
          "output_type": "stream",
          "text": [
            "BraTS20_Training_086\n"
          ],
          "name": "stdout"
        },
        {
          "output_type": "stream",
          "text": [
            "GLCM is symmetrical, therefore Sum Average = 2 * Joint Average, only 1 needs to be calculated\n"
          ],
          "name": "stderr"
        },
        {
          "output_type": "stream",
          "text": [
            "BraTS20_Training_087\n"
          ],
          "name": "stdout"
        },
        {
          "output_type": "stream",
          "text": [
            "GLCM is symmetrical, therefore Sum Average = 2 * Joint Average, only 1 needs to be calculated\n"
          ],
          "name": "stderr"
        },
        {
          "output_type": "stream",
          "text": [
            "BraTS20_Training_088\n"
          ],
          "name": "stdout"
        },
        {
          "output_type": "stream",
          "text": [
            "GLCM is symmetrical, therefore Sum Average = 2 * Joint Average, only 1 needs to be calculated\n"
          ],
          "name": "stderr"
        },
        {
          "output_type": "stream",
          "text": [
            "BraTS20_Training_089\n"
          ],
          "name": "stdout"
        },
        {
          "output_type": "stream",
          "text": [
            "GLCM is symmetrical, therefore Sum Average = 2 * Joint Average, only 1 needs to be calculated\n"
          ],
          "name": "stderr"
        },
        {
          "output_type": "stream",
          "text": [
            "BraTS20_Training_090\n"
          ],
          "name": "stdout"
        },
        {
          "output_type": "stream",
          "text": [
            "GLCM is symmetrical, therefore Sum Average = 2 * Joint Average, only 1 needs to be calculated\n"
          ],
          "name": "stderr"
        },
        {
          "output_type": "stream",
          "text": [
            "BraTS20_Training_091\n"
          ],
          "name": "stdout"
        },
        {
          "output_type": "stream",
          "text": [
            "GLCM is symmetrical, therefore Sum Average = 2 * Joint Average, only 1 needs to be calculated\n"
          ],
          "name": "stderr"
        },
        {
          "output_type": "stream",
          "text": [
            "BraTS20_Training_092\n"
          ],
          "name": "stdout"
        },
        {
          "output_type": "stream",
          "text": [
            "GLCM is symmetrical, therefore Sum Average = 2 * Joint Average, only 1 needs to be calculated\n"
          ],
          "name": "stderr"
        },
        {
          "output_type": "stream",
          "text": [
            "BraTS20_Training_093\n"
          ],
          "name": "stdout"
        },
        {
          "output_type": "stream",
          "text": [
            "GLCM is symmetrical, therefore Sum Average = 2 * Joint Average, only 1 needs to be calculated\n"
          ],
          "name": "stderr"
        },
        {
          "output_type": "stream",
          "text": [
            "BraTS20_Training_094\n"
          ],
          "name": "stdout"
        },
        {
          "output_type": "stream",
          "text": [
            "GLCM is symmetrical, therefore Sum Average = 2 * Joint Average, only 1 needs to be calculated\n"
          ],
          "name": "stderr"
        },
        {
          "output_type": "stream",
          "text": [
            "BraTS20_Training_095\n"
          ],
          "name": "stdout"
        },
        {
          "output_type": "stream",
          "text": [
            "GLCM is symmetrical, therefore Sum Average = 2 * Joint Average, only 1 needs to be calculated\n"
          ],
          "name": "stderr"
        },
        {
          "output_type": "stream",
          "text": [
            "BraTS20_Training_096\n"
          ],
          "name": "stdout"
        },
        {
          "output_type": "stream",
          "text": [
            "GLCM is symmetrical, therefore Sum Average = 2 * Joint Average, only 1 needs to be calculated\n"
          ],
          "name": "stderr"
        },
        {
          "output_type": "stream",
          "text": [
            "BraTS20_Training_097\n"
          ],
          "name": "stdout"
        },
        {
          "output_type": "stream",
          "text": [
            "GLCM is symmetrical, therefore Sum Average = 2 * Joint Average, only 1 needs to be calculated\n"
          ],
          "name": "stderr"
        },
        {
          "output_type": "stream",
          "text": [
            "BraTS20_Training_098\n"
          ],
          "name": "stdout"
        },
        {
          "output_type": "stream",
          "text": [
            "GLCM is symmetrical, therefore Sum Average = 2 * Joint Average, only 1 needs to be calculated\n"
          ],
          "name": "stderr"
        },
        {
          "output_type": "stream",
          "text": [
            "BraTS20_Training_099\n"
          ],
          "name": "stdout"
        },
        {
          "output_type": "stream",
          "text": [
            "GLCM is symmetrical, therefore Sum Average = 2 * Joint Average, only 1 needs to be calculated\n"
          ],
          "name": "stderr"
        },
        {
          "output_type": "stream",
          "text": [
            "BraTS20_Training_100\n"
          ],
          "name": "stdout"
        },
        {
          "output_type": "stream",
          "text": [
            "GLCM is symmetrical, therefore Sum Average = 2 * Joint Average, only 1 needs to be calculated\n"
          ],
          "name": "stderr"
        },
        {
          "output_type": "stream",
          "text": [
            "BraTS20_Training_101\n"
          ],
          "name": "stdout"
        },
        {
          "output_type": "stream",
          "text": [
            "GLCM is symmetrical, therefore Sum Average = 2 * Joint Average, only 1 needs to be calculated\n"
          ],
          "name": "stderr"
        },
        {
          "output_type": "stream",
          "text": [
            "BraTS20_Training_102\n"
          ],
          "name": "stdout"
        },
        {
          "output_type": "stream",
          "text": [
            "GLCM is symmetrical, therefore Sum Average = 2 * Joint Average, only 1 needs to be calculated\n"
          ],
          "name": "stderr"
        },
        {
          "output_type": "stream",
          "text": [
            "BraTS20_Training_103\n"
          ],
          "name": "stdout"
        },
        {
          "output_type": "stream",
          "text": [
            "GLCM is symmetrical, therefore Sum Average = 2 * Joint Average, only 1 needs to be calculated\n"
          ],
          "name": "stderr"
        },
        {
          "output_type": "stream",
          "text": [
            "BraTS20_Training_104\n"
          ],
          "name": "stdout"
        },
        {
          "output_type": "stream",
          "text": [
            "GLCM is symmetrical, therefore Sum Average = 2 * Joint Average, only 1 needs to be calculated\n"
          ],
          "name": "stderr"
        },
        {
          "output_type": "stream",
          "text": [
            "BraTS20_Training_105\n"
          ],
          "name": "stdout"
        },
        {
          "output_type": "stream",
          "text": [
            "GLCM is symmetrical, therefore Sum Average = 2 * Joint Average, only 1 needs to be calculated\n"
          ],
          "name": "stderr"
        },
        {
          "output_type": "stream",
          "text": [
            "BraTS20_Training_106\n"
          ],
          "name": "stdout"
        },
        {
          "output_type": "stream",
          "text": [
            "GLCM is symmetrical, therefore Sum Average = 2 * Joint Average, only 1 needs to be calculated\n"
          ],
          "name": "stderr"
        },
        {
          "output_type": "stream",
          "text": [
            "BraTS20_Training_107\n"
          ],
          "name": "stdout"
        },
        {
          "output_type": "stream",
          "text": [
            "GLCM is symmetrical, therefore Sum Average = 2 * Joint Average, only 1 needs to be calculated\n"
          ],
          "name": "stderr"
        },
        {
          "output_type": "stream",
          "text": [
            "BraTS20_Training_108\n"
          ],
          "name": "stdout"
        },
        {
          "output_type": "stream",
          "text": [
            "GLCM is symmetrical, therefore Sum Average = 2 * Joint Average, only 1 needs to be calculated\n"
          ],
          "name": "stderr"
        },
        {
          "output_type": "stream",
          "text": [
            "BraTS20_Training_109\n"
          ],
          "name": "stdout"
        },
        {
          "output_type": "stream",
          "text": [
            "GLCM is symmetrical, therefore Sum Average = 2 * Joint Average, only 1 needs to be calculated\n"
          ],
          "name": "stderr"
        },
        {
          "output_type": "stream",
          "text": [
            "BraTS20_Training_110\n"
          ],
          "name": "stdout"
        },
        {
          "output_type": "stream",
          "text": [
            "GLCM is symmetrical, therefore Sum Average = 2 * Joint Average, only 1 needs to be calculated\n"
          ],
          "name": "stderr"
        },
        {
          "output_type": "stream",
          "text": [
            "BraTS20_Training_111\n"
          ],
          "name": "stdout"
        },
        {
          "output_type": "stream",
          "text": [
            "GLCM is symmetrical, therefore Sum Average = 2 * Joint Average, only 1 needs to be calculated\n"
          ],
          "name": "stderr"
        },
        {
          "output_type": "stream",
          "text": [
            "BraTS20_Training_112\n"
          ],
          "name": "stdout"
        },
        {
          "output_type": "stream",
          "text": [
            "GLCM is symmetrical, therefore Sum Average = 2 * Joint Average, only 1 needs to be calculated\n"
          ],
          "name": "stderr"
        },
        {
          "output_type": "stream",
          "text": [
            "BraTS20_Training_113\n"
          ],
          "name": "stdout"
        },
        {
          "output_type": "stream",
          "text": [
            "GLCM is symmetrical, therefore Sum Average = 2 * Joint Average, only 1 needs to be calculated\n"
          ],
          "name": "stderr"
        },
        {
          "output_type": "stream",
          "text": [
            "BraTS20_Training_114\n"
          ],
          "name": "stdout"
        },
        {
          "output_type": "stream",
          "text": [
            "GLCM is symmetrical, therefore Sum Average = 2 * Joint Average, only 1 needs to be calculated\n"
          ],
          "name": "stderr"
        },
        {
          "output_type": "stream",
          "text": [
            "BraTS20_Training_115\n"
          ],
          "name": "stdout"
        },
        {
          "output_type": "stream",
          "text": [
            "GLCM is symmetrical, therefore Sum Average = 2 * Joint Average, only 1 needs to be calculated\n"
          ],
          "name": "stderr"
        },
        {
          "output_type": "stream",
          "text": [
            "BraTS20_Training_116\n"
          ],
          "name": "stdout"
        },
        {
          "output_type": "stream",
          "text": [
            "GLCM is symmetrical, therefore Sum Average = 2 * Joint Average, only 1 needs to be calculated\n"
          ],
          "name": "stderr"
        },
        {
          "output_type": "stream",
          "text": [
            "BraTS20_Training_117\n"
          ],
          "name": "stdout"
        },
        {
          "output_type": "stream",
          "text": [
            "GLCM is symmetrical, therefore Sum Average = 2 * Joint Average, only 1 needs to be calculated\n"
          ],
          "name": "stderr"
        },
        {
          "output_type": "stream",
          "text": [
            "BraTS20_Training_118\n"
          ],
          "name": "stdout"
        },
        {
          "output_type": "stream",
          "text": [
            "GLCM is symmetrical, therefore Sum Average = 2 * Joint Average, only 1 needs to be calculated\n"
          ],
          "name": "stderr"
        },
        {
          "output_type": "stream",
          "text": [
            "BraTS20_Training_119\n"
          ],
          "name": "stdout"
        },
        {
          "output_type": "stream",
          "text": [
            "GLCM is symmetrical, therefore Sum Average = 2 * Joint Average, only 1 needs to be calculated\n"
          ],
          "name": "stderr"
        },
        {
          "output_type": "stream",
          "text": [
            "BraTS20_Training_120\n"
          ],
          "name": "stdout"
        },
        {
          "output_type": "stream",
          "text": [
            "GLCM is symmetrical, therefore Sum Average = 2 * Joint Average, only 1 needs to be calculated\n"
          ],
          "name": "stderr"
        },
        {
          "output_type": "stream",
          "text": [
            "BraTS20_Training_121\n"
          ],
          "name": "stdout"
        },
        {
          "output_type": "stream",
          "text": [
            "GLCM is symmetrical, therefore Sum Average = 2 * Joint Average, only 1 needs to be calculated\n"
          ],
          "name": "stderr"
        },
        {
          "output_type": "stream",
          "text": [
            "BraTS20_Training_122\n"
          ],
          "name": "stdout"
        },
        {
          "output_type": "stream",
          "text": [
            "GLCM is symmetrical, therefore Sum Average = 2 * Joint Average, only 1 needs to be calculated\n"
          ],
          "name": "stderr"
        },
        {
          "output_type": "stream",
          "text": [
            "BraTS20_Training_123\n"
          ],
          "name": "stdout"
        },
        {
          "output_type": "stream",
          "text": [
            "GLCM is symmetrical, therefore Sum Average = 2 * Joint Average, only 1 needs to be calculated\n"
          ],
          "name": "stderr"
        },
        {
          "output_type": "stream",
          "text": [
            "BraTS20_Training_124\n"
          ],
          "name": "stdout"
        },
        {
          "output_type": "stream",
          "text": [
            "GLCM is symmetrical, therefore Sum Average = 2 * Joint Average, only 1 needs to be calculated\n"
          ],
          "name": "stderr"
        },
        {
          "output_type": "stream",
          "text": [
            "BraTS20_Training_125\n"
          ],
          "name": "stdout"
        },
        {
          "output_type": "stream",
          "text": [
            "GLCM is symmetrical, therefore Sum Average = 2 * Joint Average, only 1 needs to be calculated\n"
          ],
          "name": "stderr"
        },
        {
          "output_type": "stream",
          "text": [
            "BraTS20_Training_126\n"
          ],
          "name": "stdout"
        },
        {
          "output_type": "stream",
          "text": [
            "GLCM is symmetrical, therefore Sum Average = 2 * Joint Average, only 1 needs to be calculated\n"
          ],
          "name": "stderr"
        },
        {
          "output_type": "stream",
          "text": [
            "BraTS20_Training_127\n"
          ],
          "name": "stdout"
        },
        {
          "output_type": "stream",
          "text": [
            "GLCM is symmetrical, therefore Sum Average = 2 * Joint Average, only 1 needs to be calculated\n"
          ],
          "name": "stderr"
        },
        {
          "output_type": "stream",
          "text": [
            "BraTS20_Training_128\n"
          ],
          "name": "stdout"
        },
        {
          "output_type": "stream",
          "text": [
            "GLCM is symmetrical, therefore Sum Average = 2 * Joint Average, only 1 needs to be calculated\n"
          ],
          "name": "stderr"
        },
        {
          "output_type": "stream",
          "text": [
            "BraTS20_Training_129\n"
          ],
          "name": "stdout"
        },
        {
          "output_type": "stream",
          "text": [
            "GLCM is symmetrical, therefore Sum Average = 2 * Joint Average, only 1 needs to be calculated\n"
          ],
          "name": "stderr"
        },
        {
          "output_type": "stream",
          "text": [
            "BraTS20_Training_145\n"
          ],
          "name": "stdout"
        },
        {
          "output_type": "stream",
          "text": [
            "GLCM is symmetrical, therefore Sum Average = 2 * Joint Average, only 1 needs to be calculated\n"
          ],
          "name": "stderr"
        },
        {
          "output_type": "stream",
          "text": [
            "BraTS20_Training_147\n"
          ],
          "name": "stdout"
        },
        {
          "output_type": "stream",
          "text": [
            "GLCM is symmetrical, therefore Sum Average = 2 * Joint Average, only 1 needs to be calculated\n"
          ],
          "name": "stderr"
        },
        {
          "output_type": "stream",
          "text": [
            "BraTS20_Training_151\n"
          ],
          "name": "stdout"
        },
        {
          "output_type": "stream",
          "text": [
            "GLCM is symmetrical, therefore Sum Average = 2 * Joint Average, only 1 needs to be calculated\n"
          ],
          "name": "stderr"
        },
        {
          "output_type": "stream",
          "text": [
            "BraTS20_Training_152\n"
          ],
          "name": "stdout"
        },
        {
          "output_type": "stream",
          "text": [
            "GLCM is symmetrical, therefore Sum Average = 2 * Joint Average, only 1 needs to be calculated\n"
          ],
          "name": "stderr"
        },
        {
          "output_type": "stream",
          "text": [
            "BraTS20_Training_153\n"
          ],
          "name": "stdout"
        },
        {
          "output_type": "stream",
          "text": [
            "GLCM is symmetrical, therefore Sum Average = 2 * Joint Average, only 1 needs to be calculated\n"
          ],
          "name": "stderr"
        },
        {
          "output_type": "stream",
          "text": [
            "BraTS20_Training_154\n"
          ],
          "name": "stdout"
        },
        {
          "output_type": "stream",
          "text": [
            "GLCM is symmetrical, therefore Sum Average = 2 * Joint Average, only 1 needs to be calculated\n"
          ],
          "name": "stderr"
        },
        {
          "output_type": "stream",
          "text": [
            "BraTS20_Training_157\n"
          ],
          "name": "stdout"
        },
        {
          "output_type": "stream",
          "text": [
            "GLCM is symmetrical, therefore Sum Average = 2 * Joint Average, only 1 needs to be calculated\n"
          ],
          "name": "stderr"
        },
        {
          "output_type": "stream",
          "text": [
            "BraTS20_Training_158\n"
          ],
          "name": "stdout"
        },
        {
          "output_type": "stream",
          "text": [
            "GLCM is symmetrical, therefore Sum Average = 2 * Joint Average, only 1 needs to be calculated\n"
          ],
          "name": "stderr"
        },
        {
          "output_type": "stream",
          "text": [
            "BraTS20_Training_159\n"
          ],
          "name": "stdout"
        },
        {
          "output_type": "stream",
          "text": [
            "GLCM is symmetrical, therefore Sum Average = 2 * Joint Average, only 1 needs to be calculated\n"
          ],
          "name": "stderr"
        },
        {
          "output_type": "stream",
          "text": [
            "BraTS20_Training_160\n"
          ],
          "name": "stdout"
        },
        {
          "output_type": "stream",
          "text": [
            "GLCM is symmetrical, therefore Sum Average = 2 * Joint Average, only 1 needs to be calculated\n"
          ],
          "name": "stderr"
        },
        {
          "output_type": "stream",
          "text": [
            "BraTS20_Training_161\n"
          ],
          "name": "stdout"
        },
        {
          "output_type": "stream",
          "text": [
            "GLCM is symmetrical, therefore Sum Average = 2 * Joint Average, only 1 needs to be calculated\n"
          ],
          "name": "stderr"
        },
        {
          "output_type": "stream",
          "text": [
            "BraTS20_Training_162\n"
          ],
          "name": "stdout"
        },
        {
          "output_type": "stream",
          "text": [
            "GLCM is symmetrical, therefore Sum Average = 2 * Joint Average, only 1 needs to be calculated\n"
          ],
          "name": "stderr"
        },
        {
          "output_type": "stream",
          "text": [
            "BraTS20_Training_163\n"
          ],
          "name": "stdout"
        },
        {
          "output_type": "stream",
          "text": [
            "GLCM is symmetrical, therefore Sum Average = 2 * Joint Average, only 1 needs to be calculated\n"
          ],
          "name": "stderr"
        },
        {
          "output_type": "stream",
          "text": [
            "BraTS20_Training_164\n"
          ],
          "name": "stdout"
        },
        {
          "output_type": "stream",
          "text": [
            "GLCM is symmetrical, therefore Sum Average = 2 * Joint Average, only 1 needs to be calculated\n"
          ],
          "name": "stderr"
        },
        {
          "output_type": "stream",
          "text": [
            "BraTS20_Training_165\n"
          ],
          "name": "stdout"
        },
        {
          "output_type": "stream",
          "text": [
            "GLCM is symmetrical, therefore Sum Average = 2 * Joint Average, only 1 needs to be calculated\n"
          ],
          "name": "stderr"
        },
        {
          "output_type": "stream",
          "text": [
            "BraTS20_Training_166\n"
          ],
          "name": "stdout"
        },
        {
          "output_type": "stream",
          "text": [
            "GLCM is symmetrical, therefore Sum Average = 2 * Joint Average, only 1 needs to be calculated\n"
          ],
          "name": "stderr"
        },
        {
          "output_type": "stream",
          "text": [
            "BraTS20_Training_167\n"
          ],
          "name": "stdout"
        },
        {
          "output_type": "stream",
          "text": [
            "GLCM is symmetrical, therefore Sum Average = 2 * Joint Average, only 1 needs to be calculated\n"
          ],
          "name": "stderr"
        },
        {
          "output_type": "stream",
          "text": [
            "BraTS20_Training_168\n"
          ],
          "name": "stdout"
        },
        {
          "output_type": "stream",
          "text": [
            "GLCM is symmetrical, therefore Sum Average = 2 * Joint Average, only 1 needs to be calculated\n"
          ],
          "name": "stderr"
        },
        {
          "output_type": "stream",
          "text": [
            "BraTS20_Training_169\n"
          ],
          "name": "stdout"
        },
        {
          "output_type": "stream",
          "text": [
            "GLCM is symmetrical, therefore Sum Average = 2 * Joint Average, only 1 needs to be calculated\n"
          ],
          "name": "stderr"
        },
        {
          "output_type": "stream",
          "text": [
            "BraTS20_Training_170\n"
          ],
          "name": "stdout"
        },
        {
          "output_type": "stream",
          "text": [
            "GLCM is symmetrical, therefore Sum Average = 2 * Joint Average, only 1 needs to be calculated\n"
          ],
          "name": "stderr"
        },
        {
          "output_type": "stream",
          "text": [
            "BraTS20_Training_173\n"
          ],
          "name": "stdout"
        },
        {
          "output_type": "stream",
          "text": [
            "GLCM is symmetrical, therefore Sum Average = 2 * Joint Average, only 1 needs to be calculated\n"
          ],
          "name": "stderr"
        },
        {
          "output_type": "stream",
          "text": [
            "BraTS20_Training_174\n"
          ],
          "name": "stdout"
        },
        {
          "output_type": "stream",
          "text": [
            "GLCM is symmetrical, therefore Sum Average = 2 * Joint Average, only 1 needs to be calculated\n"
          ],
          "name": "stderr"
        },
        {
          "output_type": "stream",
          "text": [
            "BraTS20_Training_175\n"
          ],
          "name": "stdout"
        },
        {
          "output_type": "stream",
          "text": [
            "GLCM is symmetrical, therefore Sum Average = 2 * Joint Average, only 1 needs to be calculated\n"
          ],
          "name": "stderr"
        },
        {
          "output_type": "stream",
          "text": [
            "BraTS20_Training_177\n"
          ],
          "name": "stdout"
        },
        {
          "output_type": "stream",
          "text": [
            "GLCM is symmetrical, therefore Sum Average = 2 * Joint Average, only 1 needs to be calculated\n"
          ],
          "name": "stderr"
        },
        {
          "output_type": "stream",
          "text": [
            "BraTS20_Training_178\n"
          ],
          "name": "stdout"
        },
        {
          "output_type": "stream",
          "text": [
            "GLCM is symmetrical, therefore Sum Average = 2 * Joint Average, only 1 needs to be calculated\n"
          ],
          "name": "stderr"
        },
        {
          "output_type": "stream",
          "text": [
            "BraTS20_Training_179\n"
          ],
          "name": "stdout"
        },
        {
          "output_type": "stream",
          "text": [
            "GLCM is symmetrical, therefore Sum Average = 2 * Joint Average, only 1 needs to be calculated\n"
          ],
          "name": "stderr"
        },
        {
          "output_type": "stream",
          "text": [
            "BraTS20_Training_180\n"
          ],
          "name": "stdout"
        },
        {
          "output_type": "stream",
          "text": [
            "GLCM is symmetrical, therefore Sum Average = 2 * Joint Average, only 1 needs to be calculated\n"
          ],
          "name": "stderr"
        },
        {
          "output_type": "stream",
          "text": [
            "BraTS20_Training_181\n"
          ],
          "name": "stdout"
        },
        {
          "output_type": "stream",
          "text": [
            "GLCM is symmetrical, therefore Sum Average = 2 * Joint Average, only 1 needs to be calculated\n"
          ],
          "name": "stderr"
        },
        {
          "output_type": "stream",
          "text": [
            "BraTS20_Training_182\n"
          ],
          "name": "stdout"
        },
        {
          "output_type": "stream",
          "text": [
            "GLCM is symmetrical, therefore Sum Average = 2 * Joint Average, only 1 needs to be calculated\n"
          ],
          "name": "stderr"
        },
        {
          "output_type": "stream",
          "text": [
            "BraTS20_Training_183\n"
          ],
          "name": "stdout"
        },
        {
          "output_type": "stream",
          "text": [
            "GLCM is symmetrical, therefore Sum Average = 2 * Joint Average, only 1 needs to be calculated\n"
          ],
          "name": "stderr"
        },
        {
          "output_type": "stream",
          "text": [
            "BraTS20_Training_184\n"
          ],
          "name": "stdout"
        },
        {
          "output_type": "stream",
          "text": [
            "GLCM is symmetrical, therefore Sum Average = 2 * Joint Average, only 1 needs to be calculated\n"
          ],
          "name": "stderr"
        },
        {
          "output_type": "stream",
          "text": [
            "BraTS20_Training_185\n"
          ],
          "name": "stdout"
        },
        {
          "output_type": "stream",
          "text": [
            "GLCM is symmetrical, therefore Sum Average = 2 * Joint Average, only 1 needs to be calculated\n"
          ],
          "name": "stderr"
        },
        {
          "output_type": "stream",
          "text": [
            "BraTS20_Training_186\n"
          ],
          "name": "stdout"
        },
        {
          "output_type": "stream",
          "text": [
            "GLCM is symmetrical, therefore Sum Average = 2 * Joint Average, only 1 needs to be calculated\n"
          ],
          "name": "stderr"
        },
        {
          "output_type": "stream",
          "text": [
            "BraTS20_Training_187\n"
          ],
          "name": "stdout"
        },
        {
          "output_type": "stream",
          "text": [
            "GLCM is symmetrical, therefore Sum Average = 2 * Joint Average, only 1 needs to be calculated\n"
          ],
          "name": "stderr"
        },
        {
          "output_type": "stream",
          "text": [
            "BraTS20_Training_188\n"
          ],
          "name": "stdout"
        },
        {
          "output_type": "stream",
          "text": [
            "GLCM is symmetrical, therefore Sum Average = 2 * Joint Average, only 1 needs to be calculated\n"
          ],
          "name": "stderr"
        },
        {
          "output_type": "stream",
          "text": [
            "BraTS20_Training_189\n"
          ],
          "name": "stdout"
        },
        {
          "output_type": "stream",
          "text": [
            "GLCM is symmetrical, therefore Sum Average = 2 * Joint Average, only 1 needs to be calculated\n"
          ],
          "name": "stderr"
        },
        {
          "output_type": "stream",
          "text": [
            "BraTS20_Training_190\n"
          ],
          "name": "stdout"
        },
        {
          "output_type": "stream",
          "text": [
            "GLCM is symmetrical, therefore Sum Average = 2 * Joint Average, only 1 needs to be calculated\n"
          ],
          "name": "stderr"
        },
        {
          "output_type": "stream",
          "text": [
            "BraTS20_Training_191\n"
          ],
          "name": "stdout"
        },
        {
          "output_type": "stream",
          "text": [
            "GLCM is symmetrical, therefore Sum Average = 2 * Joint Average, only 1 needs to be calculated\n"
          ],
          "name": "stderr"
        },
        {
          "output_type": "stream",
          "text": [
            "BraTS20_Training_192\n"
          ],
          "name": "stdout"
        },
        {
          "output_type": "stream",
          "text": [
            "GLCM is symmetrical, therefore Sum Average = 2 * Joint Average, only 1 needs to be calculated\n"
          ],
          "name": "stderr"
        },
        {
          "output_type": "stream",
          "text": [
            "BraTS20_Training_194\n"
          ],
          "name": "stdout"
        },
        {
          "output_type": "stream",
          "text": [
            "GLCM is symmetrical, therefore Sum Average = 2 * Joint Average, only 1 needs to be calculated\n"
          ],
          "name": "stderr"
        },
        {
          "output_type": "stream",
          "text": [
            "BraTS20_Training_195\n"
          ],
          "name": "stdout"
        },
        {
          "output_type": "stream",
          "text": [
            "GLCM is symmetrical, therefore Sum Average = 2 * Joint Average, only 1 needs to be calculated\n"
          ],
          "name": "stderr"
        },
        {
          "output_type": "stream",
          "text": [
            "BraTS20_Training_196\n"
          ],
          "name": "stdout"
        },
        {
          "output_type": "stream",
          "text": [
            "GLCM is symmetrical, therefore Sum Average = 2 * Joint Average, only 1 needs to be calculated\n"
          ],
          "name": "stderr"
        },
        {
          "output_type": "stream",
          "text": [
            "BraTS20_Training_199\n"
          ],
          "name": "stdout"
        },
        {
          "output_type": "stream",
          "text": [
            "GLCM is symmetrical, therefore Sum Average = 2 * Joint Average, only 1 needs to be calculated\n"
          ],
          "name": "stderr"
        },
        {
          "output_type": "stream",
          "text": [
            "BraTS20_Training_201\n"
          ],
          "name": "stdout"
        },
        {
          "output_type": "stream",
          "text": [
            "GLCM is symmetrical, therefore Sum Average = 2 * Joint Average, only 1 needs to be calculated\n"
          ],
          "name": "stderr"
        },
        {
          "output_type": "stream",
          "text": [
            "BraTS20_Training_203\n"
          ],
          "name": "stdout"
        },
        {
          "output_type": "stream",
          "text": [
            "GLCM is symmetrical, therefore Sum Average = 2 * Joint Average, only 1 needs to be calculated\n"
          ],
          "name": "stderr"
        },
        {
          "output_type": "stream",
          "text": [
            "BraTS20_Training_204\n"
          ],
          "name": "stdout"
        },
        {
          "output_type": "stream",
          "text": [
            "GLCM is symmetrical, therefore Sum Average = 2 * Joint Average, only 1 needs to be calculated\n"
          ],
          "name": "stderr"
        },
        {
          "output_type": "stream",
          "text": [
            "BraTS20_Training_206\n"
          ],
          "name": "stdout"
        },
        {
          "output_type": "stream",
          "text": [
            "GLCM is symmetrical, therefore Sum Average = 2 * Joint Average, only 1 needs to be calculated\n"
          ],
          "name": "stderr"
        },
        {
          "output_type": "stream",
          "text": [
            "BraTS20_Training_210\n"
          ],
          "name": "stdout"
        },
        {
          "output_type": "stream",
          "text": [
            "GLCM is symmetrical, therefore Sum Average = 2 * Joint Average, only 1 needs to be calculated\n"
          ],
          "name": "stderr"
        },
        {
          "output_type": "stream",
          "text": [
            "BraTS20_Training_214\n"
          ],
          "name": "stdout"
        },
        {
          "output_type": "stream",
          "text": [
            "GLCM is symmetrical, therefore Sum Average = 2 * Joint Average, only 1 needs to be calculated\n"
          ],
          "name": "stderr"
        },
        {
          "output_type": "stream",
          "text": [
            "BraTS20_Training_215\n"
          ],
          "name": "stdout"
        },
        {
          "output_type": "stream",
          "text": [
            "GLCM is symmetrical, therefore Sum Average = 2 * Joint Average, only 1 needs to be calculated\n"
          ],
          "name": "stderr"
        },
        {
          "output_type": "stream",
          "text": [
            "BraTS20_Training_216\n"
          ],
          "name": "stdout"
        },
        {
          "output_type": "stream",
          "text": [
            "GLCM is symmetrical, therefore Sum Average = 2 * Joint Average, only 1 needs to be calculated\n"
          ],
          "name": "stderr"
        },
        {
          "output_type": "stream",
          "text": [
            "BraTS20_Training_217\n"
          ],
          "name": "stdout"
        },
        {
          "output_type": "stream",
          "text": [
            "GLCM is symmetrical, therefore Sum Average = 2 * Joint Average, only 1 needs to be calculated\n"
          ],
          "name": "stderr"
        },
        {
          "output_type": "stream",
          "text": [
            "BraTS20_Training_218\n"
          ],
          "name": "stdout"
        },
        {
          "output_type": "stream",
          "text": [
            "GLCM is symmetrical, therefore Sum Average = 2 * Joint Average, only 1 needs to be calculated\n"
          ],
          "name": "stderr"
        },
        {
          "output_type": "stream",
          "text": [
            "BraTS20_Training_219\n"
          ],
          "name": "stdout"
        },
        {
          "output_type": "stream",
          "text": [
            "GLCM is symmetrical, therefore Sum Average = 2 * Joint Average, only 1 needs to be calculated\n"
          ],
          "name": "stderr"
        },
        {
          "output_type": "stream",
          "text": [
            "BraTS20_Training_220\n"
          ],
          "name": "stdout"
        },
        {
          "output_type": "stream",
          "text": [
            "GLCM is symmetrical, therefore Sum Average = 2 * Joint Average, only 1 needs to be calculated\n"
          ],
          "name": "stderr"
        },
        {
          "output_type": "stream",
          "text": [
            "BraTS20_Training_221\n"
          ],
          "name": "stdout"
        },
        {
          "output_type": "stream",
          "text": [
            "GLCM is symmetrical, therefore Sum Average = 2 * Joint Average, only 1 needs to be calculated\n"
          ],
          "name": "stderr"
        },
        {
          "output_type": "stream",
          "text": [
            "BraTS20_Training_222\n"
          ],
          "name": "stdout"
        },
        {
          "output_type": "stream",
          "text": [
            "GLCM is symmetrical, therefore Sum Average = 2 * Joint Average, only 1 needs to be calculated\n"
          ],
          "name": "stderr"
        },
        {
          "output_type": "stream",
          "text": [
            "BraTS20_Training_223\n"
          ],
          "name": "stdout"
        },
        {
          "output_type": "stream",
          "text": [
            "GLCM is symmetrical, therefore Sum Average = 2 * Joint Average, only 1 needs to be calculated\n"
          ],
          "name": "stderr"
        },
        {
          "output_type": "stream",
          "text": [
            "BraTS20_Training_224\n"
          ],
          "name": "stdout"
        },
        {
          "output_type": "stream",
          "text": [
            "GLCM is symmetrical, therefore Sum Average = 2 * Joint Average, only 1 needs to be calculated\n"
          ],
          "name": "stderr"
        },
        {
          "output_type": "stream",
          "text": [
            "BraTS20_Training_225\n"
          ],
          "name": "stdout"
        },
        {
          "output_type": "stream",
          "text": [
            "GLCM is symmetrical, therefore Sum Average = 2 * Joint Average, only 1 needs to be calculated\n"
          ],
          "name": "stderr"
        },
        {
          "output_type": "stream",
          "text": [
            "BraTS20_Training_226\n"
          ],
          "name": "stdout"
        },
        {
          "output_type": "stream",
          "text": [
            "GLCM is symmetrical, therefore Sum Average = 2 * Joint Average, only 1 needs to be calculated\n"
          ],
          "name": "stderr"
        },
        {
          "output_type": "stream",
          "text": [
            "BraTS20_Training_227\n"
          ],
          "name": "stdout"
        },
        {
          "output_type": "stream",
          "text": [
            "GLCM is symmetrical, therefore Sum Average = 2 * Joint Average, only 1 needs to be calculated\n"
          ],
          "name": "stderr"
        },
        {
          "output_type": "stream",
          "text": [
            "BraTS20_Training_228\n"
          ],
          "name": "stdout"
        },
        {
          "output_type": "stream",
          "text": [
            "GLCM is symmetrical, therefore Sum Average = 2 * Joint Average, only 1 needs to be calculated\n"
          ],
          "name": "stderr"
        },
        {
          "output_type": "stream",
          "text": [
            "BraTS20_Training_229\n"
          ],
          "name": "stdout"
        },
        {
          "output_type": "stream",
          "text": [
            "GLCM is symmetrical, therefore Sum Average = 2 * Joint Average, only 1 needs to be calculated\n"
          ],
          "name": "stderr"
        },
        {
          "output_type": "stream",
          "text": [
            "BraTS20_Training_230\n"
          ],
          "name": "stdout"
        },
        {
          "output_type": "stream",
          "text": [
            "GLCM is symmetrical, therefore Sum Average = 2 * Joint Average, only 1 needs to be calculated\n"
          ],
          "name": "stderr"
        },
        {
          "output_type": "stream",
          "text": [
            "BraTS20_Training_231\n"
          ],
          "name": "stdout"
        },
        {
          "output_type": "stream",
          "text": [
            "GLCM is symmetrical, therefore Sum Average = 2 * Joint Average, only 1 needs to be calculated\n"
          ],
          "name": "stderr"
        },
        {
          "output_type": "stream",
          "text": [
            "BraTS20_Training_233\n"
          ],
          "name": "stdout"
        },
        {
          "output_type": "stream",
          "text": [
            "GLCM is symmetrical, therefore Sum Average = 2 * Joint Average, only 1 needs to be calculated\n"
          ],
          "name": "stderr"
        },
        {
          "output_type": "stream",
          "text": [
            "BraTS20_Training_235\n"
          ],
          "name": "stdout"
        },
        {
          "output_type": "stream",
          "text": [
            "GLCM is symmetrical, therefore Sum Average = 2 * Joint Average, only 1 needs to be calculated\n"
          ],
          "name": "stderr"
        },
        {
          "output_type": "stream",
          "text": [
            "BraTS20_Training_236\n"
          ],
          "name": "stdout"
        },
        {
          "output_type": "stream",
          "text": [
            "GLCM is symmetrical, therefore Sum Average = 2 * Joint Average, only 1 needs to be calculated\n"
          ],
          "name": "stderr"
        },
        {
          "output_type": "stream",
          "text": [
            "BraTS20_Training_238\n"
          ],
          "name": "stdout"
        },
        {
          "output_type": "stream",
          "text": [
            "GLCM is symmetrical, therefore Sum Average = 2 * Joint Average, only 1 needs to be calculated\n"
          ],
          "name": "stderr"
        },
        {
          "output_type": "stream",
          "text": [
            "BraTS20_Training_239\n"
          ],
          "name": "stdout"
        },
        {
          "output_type": "stream",
          "text": [
            "GLCM is symmetrical, therefore Sum Average = 2 * Joint Average, only 1 needs to be calculated\n"
          ],
          "name": "stderr"
        },
        {
          "output_type": "stream",
          "text": [
            "BraTS20_Training_240\n"
          ],
          "name": "stdout"
        },
        {
          "output_type": "stream",
          "text": [
            "GLCM is symmetrical, therefore Sum Average = 2 * Joint Average, only 1 needs to be calculated\n"
          ],
          "name": "stderr"
        },
        {
          "output_type": "stream",
          "text": [
            "BraTS20_Training_241\n"
          ],
          "name": "stdout"
        },
        {
          "output_type": "stream",
          "text": [
            "GLCM is symmetrical, therefore Sum Average = 2 * Joint Average, only 1 needs to be calculated\n"
          ],
          "name": "stderr"
        },
        {
          "output_type": "stream",
          "text": [
            "BraTS20_Training_242\n"
          ],
          "name": "stdout"
        },
        {
          "output_type": "stream",
          "text": [
            "GLCM is symmetrical, therefore Sum Average = 2 * Joint Average, only 1 needs to be calculated\n"
          ],
          "name": "stderr"
        },
        {
          "output_type": "stream",
          "text": [
            "BraTS20_Training_246\n"
          ],
          "name": "stdout"
        },
        {
          "output_type": "stream",
          "text": [
            "GLCM is symmetrical, therefore Sum Average = 2 * Joint Average, only 1 needs to be calculated\n"
          ],
          "name": "stderr"
        },
        {
          "output_type": "stream",
          "text": [
            "BraTS20_Training_247\n"
          ],
          "name": "stdout"
        },
        {
          "output_type": "stream",
          "text": [
            "GLCM is symmetrical, therefore Sum Average = 2 * Joint Average, only 1 needs to be calculated\n"
          ],
          "name": "stderr"
        },
        {
          "output_type": "stream",
          "text": [
            "BraTS20_Training_249\n"
          ],
          "name": "stdout"
        },
        {
          "output_type": "stream",
          "text": [
            "GLCM is symmetrical, therefore Sum Average = 2 * Joint Average, only 1 needs to be calculated\n"
          ],
          "name": "stderr"
        },
        {
          "output_type": "stream",
          "text": [
            "BraTS20_Training_250\n"
          ],
          "name": "stdout"
        },
        {
          "output_type": "stream",
          "text": [
            "GLCM is symmetrical, therefore Sum Average = 2 * Joint Average, only 1 needs to be calculated\n"
          ],
          "name": "stderr"
        },
        {
          "output_type": "stream",
          "text": [
            "BraTS20_Training_251\n"
          ],
          "name": "stdout"
        },
        {
          "output_type": "stream",
          "text": [
            "GLCM is symmetrical, therefore Sum Average = 2 * Joint Average, only 1 needs to be calculated\n"
          ],
          "name": "stderr"
        },
        {
          "output_type": "stream",
          "text": [
            "BraTS20_Training_252\n"
          ],
          "name": "stdout"
        },
        {
          "output_type": "stream",
          "text": [
            "GLCM is symmetrical, therefore Sum Average = 2 * Joint Average, only 1 needs to be calculated\n"
          ],
          "name": "stderr"
        },
        {
          "output_type": "stream",
          "text": [
            "BraTS20_Training_253\n"
          ],
          "name": "stdout"
        },
        {
          "output_type": "stream",
          "text": [
            "GLCM is symmetrical, therefore Sum Average = 2 * Joint Average, only 1 needs to be calculated\n"
          ],
          "name": "stderr"
        },
        {
          "output_type": "stream",
          "text": [
            "BraTS20_Training_254\n"
          ],
          "name": "stdout"
        },
        {
          "output_type": "stream",
          "text": [
            "GLCM is symmetrical, therefore Sum Average = 2 * Joint Average, only 1 needs to be calculated\n"
          ],
          "name": "stderr"
        },
        {
          "output_type": "stream",
          "text": [
            "BraTS20_Training_255\n"
          ],
          "name": "stdout"
        },
        {
          "output_type": "stream",
          "text": [
            "GLCM is symmetrical, therefore Sum Average = 2 * Joint Average, only 1 needs to be calculated\n"
          ],
          "name": "stderr"
        },
        {
          "output_type": "stream",
          "text": [
            "BraTS20_Training_337\n"
          ],
          "name": "stdout"
        },
        {
          "output_type": "stream",
          "text": [
            "GLCM is symmetrical, therefore Sum Average = 2 * Joint Average, only 1 needs to be calculated\n"
          ],
          "name": "stderr"
        },
        {
          "output_type": "stream",
          "text": [
            "BraTS20_Training_338\n"
          ],
          "name": "stdout"
        },
        {
          "output_type": "stream",
          "text": [
            "GLCM is symmetrical, therefore Sum Average = 2 * Joint Average, only 1 needs to be calculated\n"
          ],
          "name": "stderr"
        },
        {
          "output_type": "stream",
          "text": [
            "BraTS20_Training_339\n"
          ],
          "name": "stdout"
        },
        {
          "output_type": "stream",
          "text": [
            "GLCM is symmetrical, therefore Sum Average = 2 * Joint Average, only 1 needs to be calculated\n"
          ],
          "name": "stderr"
        },
        {
          "output_type": "stream",
          "text": [
            "BraTS20_Training_340\n"
          ],
          "name": "stdout"
        },
        {
          "output_type": "stream",
          "text": [
            "GLCM is symmetrical, therefore Sum Average = 2 * Joint Average, only 1 needs to be calculated\n"
          ],
          "name": "stderr"
        },
        {
          "output_type": "stream",
          "text": [
            "BraTS20_Training_341\n"
          ],
          "name": "stdout"
        },
        {
          "output_type": "stream",
          "text": [
            "GLCM is symmetrical, therefore Sum Average = 2 * Joint Average, only 1 needs to be calculated\n"
          ],
          "name": "stderr"
        },
        {
          "output_type": "stream",
          "text": [
            "BraTS20_Training_342\n"
          ],
          "name": "stdout"
        },
        {
          "output_type": "stream",
          "text": [
            "GLCM is symmetrical, therefore Sum Average = 2 * Joint Average, only 1 needs to be calculated\n"
          ],
          "name": "stderr"
        },
        {
          "output_type": "stream",
          "text": [
            "BraTS20_Training_345\n"
          ],
          "name": "stdout"
        },
        {
          "output_type": "stream",
          "text": [
            "GLCM is symmetrical, therefore Sum Average = 2 * Joint Average, only 1 needs to be calculated\n"
          ],
          "name": "stderr"
        },
        {
          "output_type": "stream",
          "text": [
            "BraTS20_Training_346\n"
          ],
          "name": "stdout"
        },
        {
          "output_type": "stream",
          "text": [
            "GLCM is symmetrical, therefore Sum Average = 2 * Joint Average, only 1 needs to be calculated\n"
          ],
          "name": "stderr"
        },
        {
          "output_type": "stream",
          "text": [
            "BraTS20_Training_347\n"
          ],
          "name": "stdout"
        },
        {
          "output_type": "stream",
          "text": [
            "GLCM is symmetrical, therefore Sum Average = 2 * Joint Average, only 1 needs to be calculated\n"
          ],
          "name": "stderr"
        },
        {
          "output_type": "stream",
          "text": [
            "BraTS20_Training_348\n"
          ],
          "name": "stdout"
        },
        {
          "output_type": "stream",
          "text": [
            "GLCM is symmetrical, therefore Sum Average = 2 * Joint Average, only 1 needs to be calculated\n"
          ],
          "name": "stderr"
        },
        {
          "output_type": "stream",
          "text": [
            "BraTS20_Training_351\n"
          ],
          "name": "stdout"
        },
        {
          "output_type": "stream",
          "text": [
            "GLCM is symmetrical, therefore Sum Average = 2 * Joint Average, only 1 needs to be calculated\n"
          ],
          "name": "stderr"
        },
        {
          "output_type": "stream",
          "text": [
            "BraTS20_Training_353\n"
          ],
          "name": "stdout"
        },
        {
          "output_type": "stream",
          "text": [
            "GLCM is symmetrical, therefore Sum Average = 2 * Joint Average, only 1 needs to be calculated\n"
          ],
          "name": "stderr"
        },
        {
          "output_type": "stream",
          "text": [
            "BraTS20_Training_354\n"
          ],
          "name": "stdout"
        },
        {
          "output_type": "stream",
          "text": [
            "GLCM is symmetrical, therefore Sum Average = 2 * Joint Average, only 1 needs to be calculated\n"
          ],
          "name": "stderr"
        },
        {
          "output_type": "stream",
          "text": [
            "BraTS20_Training_355\n"
          ],
          "name": "stdout"
        },
        {
          "output_type": "stream",
          "text": [
            "GLCM is symmetrical, therefore Sum Average = 2 * Joint Average, only 1 needs to be calculated\n"
          ],
          "name": "stderr"
        },
        {
          "output_type": "stream",
          "text": [
            "BraTS20_Training_356\n"
          ],
          "name": "stdout"
        },
        {
          "output_type": "stream",
          "text": [
            "GLCM is symmetrical, therefore Sum Average = 2 * Joint Average, only 1 needs to be calculated\n"
          ],
          "name": "stderr"
        },
        {
          "output_type": "stream",
          "text": [
            "BraTS20_Training_357\n"
          ],
          "name": "stdout"
        },
        {
          "output_type": "stream",
          "text": [
            "GLCM is symmetrical, therefore Sum Average = 2 * Joint Average, only 1 needs to be calculated\n"
          ],
          "name": "stderr"
        },
        {
          "output_type": "stream",
          "text": [
            "BraTS20_Training_358\n"
          ],
          "name": "stdout"
        },
        {
          "output_type": "stream",
          "text": [
            "GLCM is symmetrical, therefore Sum Average = 2 * Joint Average, only 1 needs to be calculated\n"
          ],
          "name": "stderr"
        },
        {
          "output_type": "stream",
          "text": [
            "BraTS20_Training_359\n"
          ],
          "name": "stdout"
        },
        {
          "output_type": "stream",
          "text": [
            "GLCM is symmetrical, therefore Sum Average = 2 * Joint Average, only 1 needs to be calculated\n"
          ],
          "name": "stderr"
        },
        {
          "output_type": "stream",
          "text": [
            "BraTS20_Training_360\n"
          ],
          "name": "stdout"
        },
        {
          "output_type": "stream",
          "text": [
            "GLCM is symmetrical, therefore Sum Average = 2 * Joint Average, only 1 needs to be calculated\n"
          ],
          "name": "stderr"
        },
        {
          "output_type": "stream",
          "text": [
            "BraTS20_Training_363\n"
          ],
          "name": "stdout"
        },
        {
          "output_type": "stream",
          "text": [
            "GLCM is symmetrical, therefore Sum Average = 2 * Joint Average, only 1 needs to be calculated\n"
          ],
          "name": "stderr"
        },
        {
          "output_type": "stream",
          "text": [
            "BraTS20_Training_366\n"
          ],
          "name": "stdout"
        },
        {
          "output_type": "stream",
          "text": [
            "GLCM is symmetrical, therefore Sum Average = 2 * Joint Average, only 1 needs to be calculated\n"
          ],
          "name": "stderr"
        },
        {
          "output_type": "stream",
          "text": [
            "BraTS20_Training_367\n"
          ],
          "name": "stdout"
        },
        {
          "output_type": "stream",
          "text": [
            "GLCM is symmetrical, therefore Sum Average = 2 * Joint Average, only 1 needs to be calculated\n"
          ],
          "name": "stderr"
        },
        {
          "output_type": "stream",
          "text": [
            "BraTS20_Training_368\n"
          ],
          "name": "stdout"
        },
        {
          "output_type": "stream",
          "text": [
            "GLCM is symmetrical, therefore Sum Average = 2 * Joint Average, only 1 needs to be calculated\n"
          ],
          "name": "stderr"
        },
        {
          "output_type": "stream",
          "text": [
            "BraTS20_Training_369\n"
          ],
          "name": "stdout"
        },
        {
          "output_type": "stream",
          "text": [
            "GLCM is symmetrical, therefore Sum Average = 2 * Joint Average, only 1 needs to be calculated\n"
          ],
          "name": "stderr"
        }
      ]
    }
  ]
}