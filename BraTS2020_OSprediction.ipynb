{
  "nbformat": 4,
  "nbformat_minor": 0,
  "metadata": {
    "colab": {
      "name": "BraTS2020_OSprediction.ipynb",
      "provenance": [],
      "toc_visible": true,
      "mount_file_id": "1NBJ8rxKSWHfKHn7d1ghTteGurIRVONDL",
      "authorship_tag": "ABX9TyOGItsflGjzhughBjOU8B0U",
      "include_colab_link": true
    },
    "kernelspec": {
      "name": "python3",
      "display_name": "Python 3"
    }
  },
  "cells": [
    {
      "cell_type": "markdown",
      "metadata": {
        "id": "view-in-github",
        "colab_type": "text"
      },
      "source": [
        "<a href=\"https://colab.research.google.com/github/sanj06/BraTS2020_OS/blob/master/BraTS2020_OSprediction.ipynb\" target=\"_parent\"><img src=\"https://colab.research.google.com/assets/colab-badge.svg\" alt=\"Open In Colab\"/></a>"
      ]
    },
    {
      "cell_type": "markdown",
      "metadata": {
        "id": "pJnf8_4pC7lK",
        "colab_type": "text"
      },
      "source": [
        "# Prediction of Patient Overall Survival in pre-operative MRI scans"
      ]
    },
    {
      "cell_type": "markdown",
      "metadata": {
        "id": "H_28WdL3yAIa",
        "colab_type": "text"
      },
      "source": [
        "Program description : Given a dataset containing pre-operative MRI scans of Brain Tumor and segmented labels, this program trains an <ml model> to predict the Overall Survival(OS) of the patient by extracting imaging/radiomic features."
      ]
    },
    {
      "cell_type": "code",
      "metadata": {
        "id": "VROd1cgiC318",
        "colab_type": "code",
        "colab": {
          "base_uri": "https://localhost:8080/",
          "height": 201
        },
        "outputId": "ffd4be4f-d796-4d60-d367-06f7dcf3f0ea"
      },
      "source": [
        "#import all libaries\n",
        "import tensorflow as tf\n",
        "import matplotlib.pyplot as plt\n",
        "%matplotlib inline\n",
        "\n",
        "import numpy as np\n",
        "import nibabel as nib\n",
        "import skimage\n",
        "from skimage.util import montage\n",
        "\n",
        "import random\n",
        "import pandas as pd\n",
        "!pip install pyradiomics\n",
        "import os\n",
        "from radiomics import featureextractor\n",
        "import radiomics\n",
        "\n",
        "import keras.backend as K\n",
        "# import keras\n",
        "# from ensorflow import keras\n",
        "from keras import layers\n",
        "from keras.models import Model, load_model\n",
        "from keras.layers import Input, BatchNormalization, Activation, Dense, Dropout,Maximum,Flatten\n",
        "from keras.layers.core import Lambda, RepeatVector, Reshape\n",
        "from keras.layers.convolutional import Conv2D, Conv2DTranspose,Conv3D,Conv3DTranspose,UpSampling2D\n",
        "# from tensorflow.keras.layers.convolutional import Conv2D, Conv2DTranspose,Conv3D,Conv3DTranspose,UpSampling2D\n",
        "# from tensorflow.keras.layers.convolutional import Conv2D, Conv2DTranspose,Conv3D,Conv3DTranspose,UpSampling2D\n",
        "from keras.layers.pooling import MaxPooling2D, GlobalMaxPool2D,MaxPooling3D,AveragePooling2D\n",
        "from keras.layers.merge import concatenate, add\n",
        "from keras.callbacks import EarlyStopping, ModelCheckpoint, ReduceLROnPlateau\n",
        "from keras.optimizers import Adam\n",
        "from keras.preprocessing.image import ImageDataGenerator, array_to_img, img_to_array, load_img\n",
        "\n",
        "from skimage.io import imread, imshow, concatenate_images\n",
        "from skimage.transform import resize\n",
        "from sklearn.utils import class_weight\n",
        "from keras.models import Sequential\n",
        "\n",
        "\n",
        "# This Python 3 environment comes with many helpful analytics libraries installed\n",
        "# It is defined by the kaggle/python Docker image: https://github.com/kaggle/docker-python\n",
        "# For example, here's several helpful packages to load\n",
        "\n",
        "import csv\n",
        "import pickle\n",
        "import cv2\n",
        "from google.colab.patches import cv2_imshow\n",
        "\n",
        "\n",
        "from sklearn.model_selection import train_test_split\n",
        "from sklearn.metrics import accuracy_score\n",
        "from sklearn.metrics import mean_squared_error\n",
        "from sklearn.metrics import r2_score\n",
        "from sklearn.metrics import mean_absolute_error\n",
        "\n",
        "from sklearn.linear_model import LinearRegression\n",
        "from sklearn.ensemble import RandomForestRegressor \n",
        "from sklearn.model_selection import RandomizedSearchCV\n",
        "from xgboost import XGBRegressor\n",
        "from pprint import pprint\n",
        "from sklearn import preprocessing\n"
      ],
      "execution_count": 55,
      "outputs": [
        {
          "output_type": "stream",
          "text": [
            "Requirement already satisfied: pyradiomics in /usr/local/lib/python3.6/dist-packages (3.0)\n",
            "Requirement already satisfied: PyWavelets<=1.0.0,>=0.4.0 in /usr/local/lib/python3.6/dist-packages (from pyradiomics) (1.0.0)\n",
            "Requirement already satisfied: six>=1.10.0 in /usr/local/lib/python3.6/dist-packages (from pyradiomics) (1.15.0)\n",
            "Requirement already satisfied: SimpleITK>=0.9.1 in /usr/local/lib/python3.6/dist-packages (from pyradiomics) (1.2.4)\n",
            "Requirement already satisfied: pykwalify>=1.6.0 in /usr/local/lib/python3.6/dist-packages (from pyradiomics) (1.7.0)\n",
            "Requirement already satisfied: numpy>=1.9.2 in /usr/local/lib/python3.6/dist-packages (from pyradiomics) (1.18.5)\n",
            "Requirement already satisfied: python-dateutil>=2.4.2 in /usr/local/lib/python3.6/dist-packages (from pykwalify>=1.6.0->pyradiomics) (2.8.1)\n",
            "Requirement already satisfied: PyYAML>=3.11 in /usr/local/lib/python3.6/dist-packages (from pykwalify>=1.6.0->pyradiomics) (3.13)\n",
            "Requirement already satisfied: docopt>=0.6.2 in /usr/local/lib/python3.6/dist-packages (from pykwalify>=1.6.0->pyradiomics) (0.6.2)\n"
          ],
          "name": "stdout"
        }
      ]
    },
    {
      "cell_type": "markdown",
      "metadata": {
        "id": "676N9VhvYl2X",
        "colab_type": "text"
      },
      "source": [
        "2. Linking Dataset from drive"
      ]
    },
    {
      "cell_type": "code",
      "metadata": {
        "id": "o6JmR8tTrIGj",
        "colab_type": "code",
        "colab": {
          "base_uri": "https://localhost:8080/",
          "height": 55
        },
        "outputId": "db08ccc4-2d55-491e-b2bb-ea89c2b0c194"
      },
      "source": [
        "#link drive\n",
        "from google.colab import drive\n",
        "drive.mount('/content/drive')"
      ],
      "execution_count": 2,
      "outputs": [
        {
          "output_type": "stream",
          "text": [
            "Drive already mounted at /content/drive; to attempt to forcibly remount, call drive.mount(\"/content/drive\", force_remount=True).\n"
          ],
          "name": "stdout"
        }
      ]
    },
    {
      "cell_type": "markdown",
      "metadata": {
        "id": "bdtVleGHsoRy",
        "colab_type": "text"
      },
      "source": [
        "3. Reading and displaying one test image"
      ]
    },
    {
      "cell_type": "code",
      "metadata": {
        "id": "9A6-uxeSsK8W",
        "colab_type": "code",
        "colab": {
          "base_uri": "https://localhost:8080/",
          "height": 163
        },
        "outputId": "198d37bd-508c-4c9c-d3a9-6a278501e3c7"
      },
      "source": [
        "\n",
        "#read and display first image file\n",
        "test_image_path = '/content/drive/My Drive/Colab Notebooks/MICCAI_BraTS2020_TrainingData/MICCAI_BraTS2020_TrainingData/BraTS20_Training_001/BraTS20_Training_001_seg.nii.gz'\n",
        "\n",
        "test_img = nib.load(test_image_path)\n",
        "test_image = nib.load(test_image_path).get_fdata()\n",
        "\n",
        "print(test_image.shape)\n",
        "\n",
        "#print(test_img.header)\n",
        "#print(type(test_image))\n",
        "print(test_image[120][130])\n"
      ],
      "execution_count": 3,
      "outputs": [
        {
          "output_type": "stream",
          "text": [
            "(240, 240, 155)\n",
            "[0. 0. 0. 0. 0. 0. 0. 0. 0. 0. 0. 0. 0. 0. 0. 0. 0. 0. 0. 0. 0. 0. 0. 0.\n",
            " 0. 0. 0. 0. 0. 0. 0. 0. 0. 0. 0. 0. 0. 0. 0. 0. 0. 0. 0. 0. 0. 0. 0. 0.\n",
            " 0. 0. 0. 0. 0. 0. 0. 0. 0. 0. 0. 0. 0. 0. 0. 2. 2. 2. 2. 2. 2. 2. 2. 2.\n",
            " 2. 2. 2. 2. 2. 2. 2. 2. 2. 2. 2. 2. 2. 0. 0. 0. 0. 0. 2. 2. 2. 2. 2. 2.\n",
            " 2. 2. 0. 0. 0. 0. 0. 0. 0. 0. 0. 0. 0. 0. 0. 0. 0. 0. 0. 0. 0. 0. 0. 0.\n",
            " 0. 0. 0. 0. 0. 0. 0. 0. 0. 0. 0. 0. 0. 0. 0. 0. 0. 0. 0. 0. 0. 0. 0. 0.\n",
            " 0. 0. 0. 0. 0. 0. 0. 0. 0. 0. 0.]\n"
          ],
          "name": "stdout"
        }
      ]
    },
    {
      "cell_type": "code",
      "metadata": {
        "id": "Ame3y1ABrowx",
        "colab_type": "code",
        "colab": {}
      },
      "source": [
        "#function to display image slices\n",
        "def show_slices(slices):\n",
        "  fig, axes = plt.subplots(1,len(slices))\n",
        "  for i, slice in enumerate(slices):\n",
        "    axes[i].imshow(slice.T, cmap=\"gray\", origin=\"lower\")"
      ],
      "execution_count": 4,
      "outputs": []
    },
    {
      "cell_type": "code",
      "metadata": {
        "id": "sKVlxZc1rqPk",
        "colab_type": "code",
        "colab": {
          "base_uri": "https://localhost:8080/",
          "height": 146
        },
        "outputId": "7b619ff5-e4b5-4668-c05b-bcec80348377"
      },
      "source": [
        "#displaying the image in all axes\n",
        "slice_0 = test_image[120, :, :]\n",
        "slice_1 = test_image[:, 120, :]\n",
        "slice_2 = test_image[:, :, 78]\n",
        "show_slices([slice_0, slice_1, slice_2])\n"
      ],
      "execution_count": 5,
      "outputs": [
        {
          "output_type": "display_data",
          "data": {
            "image/png": "[encoded data removed]",
            "text/plain": [
              "<Figure size 432x288 with 3 Axes>"
            ]
          },
          "metadata": {
            "tags": [],
            "needs_background": "light"
          }
        }
      ]
    },
    {
      "cell_type": "code",
      "metadata": {
        "id": "Gc6DSyDMSl-I",
        "colab_type": "code",
        "colab": {
          "base_uri": "https://localhost:8080/",
          "height": 146
        },
        "outputId": "ba0fbf8f-91aa-4e1e-9294-f1bca79d83b6"
      },
      "source": [
        "#extracting specific ROI using temp mask\n",
        "test_image = (test_img.get_fdata()).astype(np.uint8)\n",
        "temp = np.zeros_like(test_image, dtype=np.uint8)\n",
        "temp.fill(4) # 4 label is for ET\n",
        "out = cv2.bitwise_and(test_image, temp)\n",
        "\n",
        "#displaying specific ROI\n",
        "slice_out_0 = out[120, :, :]\n",
        "slice_out_1 = out[:, 120, :]\n",
        "slice_out_2 = out[:, :, 78]\n",
        "show_slices([slice_out_0, slice_out_1, slice_out_2])"
      ],
      "execution_count": 6,
      "outputs": [
        {
          "output_type": "display_data",
          "data": {
            "image/png": "[encoded data removed]",
            "text/plain": [
              "<Figure size 432x288 with 3 Axes>"
            ]
          },
          "metadata": {
            "tags": [],
            "needs_background": "light"
          }
        }
      ]
    },
    {
      "cell_type": "code",
      "metadata": {
        "id": "_GUFRLh3qEAo",
        "colab_type": "code",
        "colab": {
          "base_uri": "https://localhost:8080/",
          "height": 275
        },
        "outputId": "fd6e15ed-b0a6-444e-be34-abee91836ad4"
      },
      "source": [
        "#testing how to use laplacian for edge sharpness\n",
        "\n",
        "#img = cv2.GaussianBlur(slice_0, (11, 11), 0)\n",
        "laplacian = cv2.Laplacian(out, cv2.CV_64F, ksize=5)\n",
        "cv2_imshow(laplacian[120])\n",
        "laplacian_var = laplacian.var()\n",
        "\n",
        "print(laplacian_var)\n"
      ],
      "execution_count": 7,
      "outputs": [
        {
          "output_type": "display_data",
          "data": {
            "image/png": "[encoded data removed]",
            "text/plain": [
              "<PIL.Image.Image image mode=L size=155x240 at 0x7F1EAEF58A58>"
            ]
          },
          "metadata": {
            "tags": []
          }
        },
        {
          "output_type": "stream",
          "text": [
            "19.990924731182794\n"
          ],
          "name": "stdout"
        }
      ]
    },
    {
      "cell_type": "code",
      "metadata": {
        "id": "lgayl56H9w0I",
        "colab_type": "code",
        "colab": {
          "base_uri": "https://localhost:8080/",
          "height": 1000
        },
        "outputId": "09a8c6fa-16c8-4506-c0da-0d7667f2914f"
      },
      "source": [
        "#displaying a montage of the image in x axis\n",
        "fig, ax1 = plt.subplots(1, 1, figsize = (20, 20))\n",
        "ax1.imshow(montage(test_image), cmap ='gray')"
      ],
      "execution_count": 8,
      "outputs": [
        {
          "output_type": "execute_result",
          "data": {
            "text/plain": [
              "<matplotlib.image.AxesImage at 0x7f1eaf4aa6d8>"
            ]
          },
          "metadata": {
            "tags": []
          },
          "execution_count": 8
        },
        {
          "output_type": "display_data",
          "data": {
            "image/png": "[encoded data removed]",
            "text/plain": [
              "<Figure size 1440x1440 with 1 Axes>"
            ]
          },
          "metadata": {
            "tags": [],
            "needs_background": "light"
          }
        }
      ]
    },
    {
      "cell_type": "code",
      "metadata": {
        "id": "HIY-OeskLjg8",
        "colab_type": "code",
        "colab": {}
      },
      "source": [
        "#creating a separate dataset segregated by modality\n",
        "#import shutil,os\n",
        "#dataset_dir_path = '/content/drive/My Drive/Colab Notebooks/MICCAI_BraTS2020_TrainingData/MICCAI_BraTS2020_TrainingData'\n",
        "#for training_sample_folder in os.listdir(dataset_dir_path) :\n",
        "#  if(not(training_sample_folder.endswith(\".csv\"))):\n",
        "#    for filename in os.listdir(os.path.join(dataset_dir_path,training_sample_folder)) :\n",
        "#      x = filename.split('_')\n",
        "#      image_type = x[3]\n",
        "#      dir_path = os.path.join(dataset_dir_path,training_sample_folder)\n",
        "#      if(image_type == \"flair.nii.gz\"):\n",
        "#        shutil.copy((os.path.join(dir_path, filename)) , '/content/separate_dataset/flair')\n",
        "#      if(image_type == \"seg.nii.gz\"):\n",
        "#        shutil.copy((os.path.join(dir_path, filename)) , '/content/separate_dataset/seg')\n",
        "#      if(image_type == 't1ce.nii.gz'):\n",
        "#        shutil.copy((os.path.join(dir_path, filename)) , '/content/separate_dataset/t1ce')\n",
        "#      if(image_type == 't1.nii.gz'):\n",
        "#        shutil.copy((os.path.join(dir_path, filename)) , '/content/separate_dataset/t1')\n",
        "#      if(image_type == 't2.nii.gz'):\n",
        "#        shutil.copy((os.path.join(dir_path, filename)) , '/content/separate_dataset/t2')\n"
      ],
      "execution_count": 9,
      "outputs": []
    },
    {
      "cell_type": "markdown",
      "metadata": {
        "id": "OygYM_cyxy0T",
        "colab_type": "text"
      },
      "source": [
        "Check link [Manipulating Brain MRI](https://www.datacamp.com/community/tutorials/reconstructing-brain-images-deep-learning)"
      ]
    },
    {
      "cell_type": "code",
      "metadata": {
        "id": "Y0Ef60rwfD5x",
        "colab_type": "code",
        "colab": {
          "base_uri": "https://localhost:8080/",
          "height": 199
        },
        "outputId": "7832d2b3-f4d9-4686-fd08-a3fe2e91b0da"
      },
      "source": [
        "'''\n",
        "#reading survival_info csv file and displaying data \n",
        "\n",
        "import csv\n",
        "\n",
        "survival_info_path = '/content/drive/My Drive/Colab Notebooks/MICCAI_BraTS2020_TrainingData/survival_info.csv'\n",
        "\n",
        "age_dict = {}\n",
        "days_dict = {}\n",
        "\n",
        "with open(survival_info_path, mode='r') as csv_file:\n",
        "    csv_reader = csv.reader(csv_file,delimiter = ',')\n",
        "    line_count = 0\n",
        "    a = 0\n",
        "    b = 0\n",
        "    c = 0\n",
        "    max_days = 0\n",
        "    for row in csv_reader:\n",
        "        if line_count == 0:\n",
        "            print(f'Column names are {\", \".join(row)}')\n",
        "            line_count += 1\n",
        "        else:\n",
        "            print(row)\n",
        "            key = row[0]\n",
        "            age = row[1]\n",
        "            days = row[2]\n",
        "            age_dict[key] = float(age)\n",
        "            days_dict[key] = int(days)\n",
        "            max_days = max(max_days,int(days))\n",
        "            if int(days) < 250:\n",
        "                a += 1\n",
        "            elif (int(days) >= 250 and int(days) <= 500):\n",
        "                b += 1\n",
        "            else:\n",
        "                c += 1\n",
        "            line_count+=1\n",
        "\n",
        "    print(f'Processed {line_count} lines.')\n",
        "    #age_m = np.zeros((1,1))\n",
        "    print(a,b,c)\n",
        "    print(max_days)\n",
        "'''"
      ],
      "execution_count": 10,
      "outputs": [
        {
          "output_type": "execute_result",
          "data": {
            "application/vnd.google.colaboratory.intrinsic+json": {
              "type": "string"
            },
            "text/plain": [
              "'\\n#reading survival_info csv file and displaying data \\n\\nimport csv\\n\\nsurvival_info_path = \\'/content/drive/My Drive/Colab Notebooks/MICCAI_BraTS2020_TrainingData/survival_info.csv\\'\\n\\nage_dict = {}\\ndays_dict = {}\\n\\nwith open(survival_info_path, mode=\\'r\\') as csv_file:\\n    csv_reader = csv.reader(csv_file,delimiter = \\',\\')\\n    line_count = 0\\n    a = 0\\n    b = 0\\n    c = 0\\n    max_days = 0\\n    for row in csv_reader:\\n        if line_count == 0:\\n            print(f\\'Column names are {\", \".join(row)}\\')\\n            line_count += 1\\n        else:\\n            print(row)\\n            key = row[0]\\n            age = row[1]\\n            days = row[2]\\n            age_dict[key] = float(age)\\n            days_dict[key] = int(days)\\n            max_days = max(max_days,int(days))\\n            if int(days) < 250:\\n                a += 1\\n            elif (int(days) >= 250 and int(days) <= 500):\\n                b += 1\\n            else:\\n                c += 1\\n            line_count+=1\\n\\n    print(f\\'Processed {line_count} lines.\\')\\n    #age_m = np.zeros((1,1))\\n    print(a,b,c)\\n    print(max_days)\\n'"
            ]
          },
          "metadata": {
            "tags": []
          },
          "execution_count": 10
        }
      ]
    },
    {
      "cell_type": "code",
      "metadata": {
        "id": "qoplueb8Tw5G",
        "colab_type": "code",
        "colab": {
          "base_uri": "https://localhost:8080/",
          "height": 199
        },
        "outputId": "b85c74ab-afbe-4c09-9174-b1daf37d7175"
      },
      "source": [
        "'''\n",
        "#Extracting features and storing in features.csv file\n",
        "\n",
        "survival_info_path = '/content/drive/My Drive/Colab Notebooks/MICCAI_BraTS2020_TrainingData/survival_info.csv'\n",
        "age_dict = {}\n",
        "days_dict = {}\n",
        "keys = []\n",
        "line_count = 0\n",
        "\n",
        "#reading survival_info.csv file and storing the given image id's in array, and age and survival days in dict\n",
        "with open(survival_info_path, mode='r') as csv_file:\n",
        "    csv_reader = csv.reader(csv_file,delimiter = ',')\n",
        "    for row in csv_reader:\n",
        "        if line_count == 0:\n",
        "            line_count += 1\n",
        "        else:\n",
        "          keys.append(row[0])\n",
        "          age = row[1]\n",
        "          days = row[2]\n",
        "          age_dict[row[0]] = float(age)\n",
        "          days_dict[row[0]] = int(days)         \n",
        "\n",
        "#print(keys)\n",
        "\n",
        "#param file and intializing extractors for each ROI\n",
        "\n",
        "paramPath = os.path.join('/content/drive/My Drive/Colab Notebooks/MICCAI_BraTS2020_TrainingData', \"Params.yaml\")\n",
        "print (\"Parameter file, absolute path:\", os.path.abspath(paramPath))\n",
        "#extractor 1 - NCR & NET ROI\n",
        "settings1 = {'label': 1, 'shape': ['VoxelVolume', 'SurfaceArea', 'MajorAxisLength'], 'firstorder': ['Energy'], 'glcm': ['Contrast'], 'glrlm': ['GrayLevelVariance'], 'glszm': ['GrayLevelVariance'], 'gldm': ['GrayLevelVariance'], 'ngtdm': ['Contrast'],'minimumROISize': 1} #NCR & NET ROI\n",
        "extractor1 = featureextractor.RadiomicsFeatureExtractor(additionalInfo=True, **settings1)\n",
        "#extractor 2 - ED ROI\n",
        "settings2 = {'label': 2, 'shape': ['VoxelVolume', 'SurfaceArea', 'MajorAxisLength'],'firstorder': ['Energy'], 'glcm': ['Contrast'], 'glrlm': ['GrayLevelVariance'], 'glszm': ['GrayLevelVariance'], 'gldm': ['GrayLevelVariance'], 'ngtdm': ['Contrast'],'minimumROISize': 1} #ED ROI\n",
        "extractor2 = featureextractor.RadiomicsFeatureExtractor(additionalInfo=True, **settings2)\n",
        "#extractor 3 - ET ROI\n",
        "settings3 = {'label': 4, 'shape': ['VoxelVolume', 'SurfaceArea', 'MajorAxisLength'], 'firstorder': ['Energy'], 'glcm': ['Contrast'], 'glrlm': ['GrayLevelVariance'], 'glszm': ['GrayLevelVariance'], 'gldm': ['GrayLevelVariance'], 'ngtdm': ['Contrast'],'minimumROISize': 1} #ET ROI\n",
        "extractor3 = featureextractor.RadiomicsFeatureExtractor(additionalInfo=True, **settings3)\n",
        "\n",
        "count=0\n",
        "\n",
        "#fetching flair and seg files and assigning to extractor\n",
        "dataset_dir_path = '/content/drive/My Drive/Colab Notebooks/MICCAI_BraTS2020_TrainingData/MICCAI_BraTS2020_TrainingData'\n",
        "\n",
        "with open('/content/drive/My Drive/Colab Notebooks/MICCAI_BraTS2020_TrainingData/features_data.csv', 'w', newline='') as csvfile:\n",
        "      writer_var = csv.writer(csvfile, delimiter=',')\n",
        "      #writer_var.writerow(['Age', 'NCR_VoxelVolume', 'ED_VoxelVolume', 'ET_VoxelVolume','NCR_SurfaceArea', 'ED_SurfaceArea' , 'ET_SurfaceArea','NCR_MajorAxisLength', 'ED_MajorAxisLength', 'ET_MajorAxisLength', 'ET_Laplacian', 'Survival_Days'])\n",
        "      for id in keys:\n",
        "        print(id)\n",
        "        training_sample = os.path.join(dataset_dir_path,id) \n",
        "        for filename in os.listdir(training_sample):\n",
        "          x = filename.split('_')\n",
        "          image_type = x[3]\n",
        "          if(image_type == \"flair.nii.gz\"):\n",
        "            flair_file = filename\n",
        "          if(image_type == \"seg.nii.gz\"):\n",
        "            seg_file = filename\n",
        "\n",
        "        # Store the file paths of testing image and label map into two variables\n",
        "        imagePath = os.path.join(training_sample, flair_file)\n",
        "        maskPath = os.path.join(training_sample, seg_file)\n",
        "\n",
        "        #load mask file (seg) and create a temp mask to extract each ROI\n",
        "        image = (nib.load(maskPath).get_fdata()).astype(np.uint8)\n",
        "        temp = np.zeros_like(image, dtype=np.uint8)\n",
        "        temp.fill(4)\n",
        "        out = cv2.bitwise_and(image, temp)\n",
        "        #if ROI present extract features else enter 0's\n",
        "        if 4 in out:          \n",
        "          result3 = extractor3.execute(imagePath, maskPath)\n",
        "          ET_VoxelVolume = result3['original_shape_VoxelVolume']\n",
        "          ET_SurfaceArea = result3['original_shape_SurfaceArea']\n",
        "          ET_MajorAxisLength = result3['original_shape_MajorAxisLength']\n",
        "          ET_Laplacian = cv2.Laplacian(out, cv2.CV_64F, ksize=5).var()\n",
        "        else:\n",
        "          ET_VoxelVolume, ET_SurfaceArea, ET_MajorAxisLength, ET_Laplacian = 0, 0, 0, 0\n",
        "        \n",
        "        \n",
        "        temp.fill(2)\n",
        "        out = cv2.bitwise_and(image, temp)\n",
        "        if 2 in out:          \n",
        "          result2 = extractor2.execute(imagePath, maskPath)\n",
        "          ED_VoxelVolume = result2['original_shape_VoxelVolume']\n",
        "          ED_SurfaceArea = result2['original_shape_SurfaceArea']\n",
        "          ED_MajorAxisLength = result2['original_shape_MajorAxisLength']\n",
        "        else:\n",
        "          ED_VoxelVolume, ED_SurfaceArea, ED_MajorAxisLength  = 0, 0, 0\n",
        "\n",
        "        \n",
        "        temp.fill(1)\n",
        "        out = cv2.bitwise_and(image, temp)\n",
        "        if 1 in out:          \n",
        "          result1 = extractor1.execute(imagePath, maskPath)\n",
        "          NCR_VoxelVolume = result1['original_shape_VoxelVolume']\n",
        "          NCR_SurfaceArea = result1['original_shape_SurfaceArea']\n",
        "          NCR_MajorAxisLength = result1['original_shape_MajorAxisLength']\n",
        "        else:\n",
        "          NCR_VoxelVolume, NCR_SurfaceArea, NCR_MajorAxisLength  = 0, 0, 0\n",
        "\n",
        "        #store extracted features and other features in features.csv\n",
        "        writer_var.writerow([age_dict[id], NCR_VoxelVolume, ED_VoxelVolume, ET_VoxelVolume, NCR_SurfaceArea, ED_SurfaceArea , ET_SurfaceArea, NCR_MajorAxisLength, ED_MajorAxisLength, ET_MajorAxisLength, ET_Laplacian, days_dict[id]])\n",
        "'''\n"
      ],
      "execution_count": 11,
      "outputs": [
        {
          "output_type": "execute_result",
          "data": {
            "application/vnd.google.colaboratory.intrinsic+json": {
              "type": "string"
            },
            "text/plain": [
              "'\\n#Extracting features and storing in features.csv file\\n\\nsurvival_info_path = \\'/content/drive/My Drive/Colab Notebooks/MICCAI_BraTS2020_TrainingData/survival_info.csv\\'\\nage_dict = {}\\ndays_dict = {}\\nkeys = []\\nline_count = 0\\n\\n#reading survival_info.csv file and storing the given image id\\'s in array, and age and survival days in dict\\nwith open(survival_info_path, mode=\\'r\\') as csv_file:\\n    csv_reader = csv.reader(csv_file,delimiter = \\',\\')\\n    for row in csv_reader:\\n        if line_count == 0:\\n            line_count += 1\\n        else:\\n          keys.append(row[0])\\n          age = row[1]\\n          days = row[2]\\n          age_dict[row[0]] = float(age)\\n          days_dict[row[0]] = int(days)         \\n\\n#print(keys)\\n\\n#param file and intializing extractors for each ROI\\n\\nparamPath = os.path.join(\\'/content/drive/My Drive/Colab Notebooks/MICCAI_BraTS2020_TrainingData\\', \"Params.yaml\")\\nprint (\"Parameter file, absolute path:\", os.path.abspath(paramPath))\\n#extractor 1 - NCR & NET ROI\\nsettings1 = {\\'label\\': 1, \\'shape\\': [\\'VoxelVolume\\', \\'SurfaceArea\\', \\'MajorAxisLength\\'], \\'firstorder\\': [\\'Energy\\'], \\'glcm\\': [\\'Contrast\\'], \\'glrlm\\': [\\'GrayLevelVariance\\'], \\'glszm\\': [\\'GrayLevelVariance\\'], \\'gldm\\': [\\'GrayLevelVariance\\'], \\'ngtdm\\': [\\'Contrast\\'],\\'minimumROISize\\': 1} #NCR & NET ROI\\nextractor1 = featureextractor.RadiomicsFeatureExtractor(additionalInfo=True, **settings1)\\n#extractor 2 - ED ROI\\nsettings2 = {\\'label\\': 2, \\'shape\\': [\\'VoxelVolume\\', \\'SurfaceArea\\', \\'MajorAxisLength\\'],\\'firstorder\\': [\\'Energy\\'], \\'glcm\\': [\\'Contrast\\'], \\'glrlm\\': [\\'GrayLevelVariance\\'], \\'glszm\\': [\\'GrayLevelVariance\\'], \\'gldm\\': [\\'GrayLevelVariance\\'], \\'ngtdm\\': [\\'Contrast\\'],\\'minimumROISize\\': 1} #ED ROI\\nextractor2 = featureextractor.RadiomicsFeatureExtractor(additionalInfo=True, **settings2)\\n#extractor 3 - ET ROI\\nsettings3 = {\\'label\\': 4, \\'shape\\': [\\'VoxelVolume\\', \\'SurfaceArea\\', \\'MajorAxisLength\\'], \\'firstorder\\': [\\'Energy\\'], \\'glcm\\': [\\'Contrast\\'], \\'glrlm\\': [\\'GrayLevelVariance\\'], \\'glszm\\': [\\'GrayLevelVariance\\'], \\'gldm\\': [\\'GrayLevelVariance\\'], \\'ngtdm\\': [\\'Contrast\\'],\\'minimumROISize\\': 1} #ET ROI\\nextractor3 = featureextractor.RadiomicsFeatureExtractor(additionalInfo=True, **settings3)\\n\\ncount=0\\n\\n#fetching flair and seg files and assigning to extractor\\ndataset_dir_path = \\'/content/drive/My Drive/Colab Notebooks/MICCAI_BraTS2020_TrainingData/MICCAI_BraTS2020_TrainingData\\'\\n\\nwith open(\\'/content/drive/My Drive/Colab Notebooks/MICCAI_BraTS2020_TrainingData/features_data.csv\\', \\'w\\', newline=\\'\\') as csvfile:\\n      writer_var = csv.writer(csvfile, delimiter=\\',\\')\\n      #writer_var.writerow([\\'Age\\', \\'NCR_VoxelVolume\\', \\'ED_VoxelVolume\\', \\'ET_VoxelVolume\\',\\'NCR_SurfaceArea\\', \\'ED_SurfaceArea\\' , \\'ET_SurfaceArea\\',\\'NCR_MajorAxisLength\\', \\'ED_MajorAxisLength\\', \\'ET_MajorAxisLength\\', \\'ET_Laplacian\\', \\'Survival_Days\\'])\\n      for id in keys:\\n        print(id)\\n        training_sample = os.path.join(dataset_dir_path,id) \\n        for filename in os.listdir(training_sample):\\n          x = filename.split(\\'_\\')\\n          image_type = x[3]\\n          if(image_type == \"flair.nii.gz\"):\\n            flair_file = filename\\n          if(image_type == \"seg.nii.gz\"):\\n            seg_file = filename\\n\\n        # Store the file paths of testing image and label map into two variables\\n        imagePath = os.path.join(training_sample, flair_file)\\n        maskPath = os.path.join(training_sample, seg_file)\\n\\n        #load mask file (seg) and create a temp mask to extract each ROI\\n        image = (nib.load(maskPath).get_fdata()).astype(np.uint8)\\n        temp = np.zeros_like(image, dtype=np.uint8)\\n        temp.fill(4)\\n        out = cv2.bitwise_and(image, temp)\\n        #if ROI present extract features else enter 0\\'s\\n        if 4 in out:          \\n          result3 = extractor3.execute(imagePath, maskPath)\\n          ET_VoxelVolume = result3[\\'original_shape_VoxelVolume\\']\\n          ET_SurfaceArea = result3[\\'original_shape_SurfaceArea\\']\\n          ET_MajorAxisLength = result3[\\'original_shape_MajorAxisLength\\']\\n          ET_Laplacian = cv2.Laplacian(out, cv2.CV_64F, ksize=5).var()\\n        else:\\n          ET_VoxelVolume, ET_SurfaceArea, ET_MajorAxisLength, ET_Laplacian = 0, 0, 0, 0\\n        \\n        \\n        temp.fill(2)\\n        out = cv2.bitwise_and(image, temp)\\n        if 2 in out:          \\n          result2 = extractor2.execute(imagePath, maskPath)\\n          ED_VoxelVolume = result2[\\'original_shape_VoxelVolume\\']\\n          ED_SurfaceArea = result2[\\'original_shape_SurfaceArea\\']\\n          ED_MajorAxisLength = result2[\\'original_shape_MajorAxisLength\\']\\n        else:\\n          ED_VoxelVolume, ED_SurfaceArea, ED_MajorAxisLength  = 0, 0, 0\\n\\n        \\n        temp.fill(1)\\n        out = cv2.bitwise_and(image, temp)\\n        if 1 in out:          \\n          result1 = extractor1.execute(imagePath, maskPath)\\n          NCR_VoxelVolume = result1[\\'original_shape_VoxelVolume\\']\\n          NCR_SurfaceArea = result1[\\'original_shape_SurfaceArea\\']\\n          NCR_MajorAxisLength = result1[\\'original_shape_MajorAxisLength\\']\\n        else:\\n          NCR_VoxelVolume, NCR_SurfaceArea, NCR_MajorAxisLength  = 0, 0, 0\\n\\n        #store extracted features and other features in features.csv\\n        writer_var.writerow([age_dict[id], NCR_VoxelVolume, ED_VoxelVolume, ET_VoxelVolume, NCR_SurfaceArea, ED_SurfaceArea , ET_SurfaceArea, NCR_MajorAxisLength, ED_MajorAxisLength, ET_MajorAxisLength, ET_Laplacian, days_dict[id]])\\n'"
            ]
          },
          "metadata": {
            "tags": []
          },
          "execution_count": 11
        }
      ]
    },
    {
      "cell_type": "markdown",
      "metadata": {
        "id": "FH-9YMU_yWk5",
        "colab_type": "text"
      },
      "source": [
        "MODELS\n"
      ]
    },
    {
      "cell_type": "code",
      "metadata": {
        "id": "XRAl8mMx4FrX",
        "colab_type": "code",
        "colab": {}
      },
      "source": [
        "# Read and Prepare data\n",
        "\n",
        "features_path = \"/content/drive/My Drive/Colab Notebooks/MICCAI_BraTS2020_TrainingData/features_data.csv\"\n",
        "features_file = open(features_path, \"rt\")\n",
        "dataset = np.loadtxt(features_file, delimiter=\",\")\n",
        "\n",
        "\n",
        "# split data into X and y\n",
        "X = dataset[:,0:11]\n",
        "Y = dataset[:,11]\n",
        "\n",
        "#print(X)\n",
        "#print(Y)"
      ],
      "execution_count": 12,
      "outputs": []
    },
    {
      "cell_type": "code",
      "metadata": {
        "id": "y8UQ0xlNh6MD",
        "colab_type": "code",
        "colab": {}
      },
      "source": [
        "#Saved models file path\n",
        "LR_model = '/content/drive/My Drive/Colab Notebooks/MICCAI_BraTS2020_TrainingData/finalized_LR.sav'  \n",
        "RF_model = '/content/drive/My Drive/Colab Notebooks/MICCAI_BraTS2020_TrainingData/finalized_RF_new.sav'\n",
        "XGB_model = '/content/drive/My Drive/Colab Notebooks/MICCAI_BraTS2020_TrainingData/finalized_XGB.sav'\n",
        "LRNORM_model = '/content/drive/My Drive/Colab Notebooks/MICCAI_BraTS2020_TrainingData/finalized_LRNORM.sav'  \n",
        "RFNORM_model = '/content/drive/My Drive/Colab Notebooks/MICCAI_BraTS2020_TrainingData/finalized_RFNORM_new.sav'\n",
        "XGBNORM_model = '/content/drive/My Drive/Colab Notebooks/MICCAI_BraTS2020_TrainingData/finalized_XGBNORM.sav'\n",
        "\n",
        "#Results file paths\n",
        "LR_predictions_file = \"/content/drive/My Drive/Colab Notebooks/MICCAI_BraTS2020_TrainingData/LR_predictions.csv\"\n",
        "RF_predictions_file = \"/content/drive/My Drive/Colab Notebooks/MICCAI_BraTS2020_TrainingData/RF_predictions.csv\"\n",
        "XGB_predictions_file = \"/content/drive/My Drive/Colab Notebooks/MICCAI_BraTS2020_TrainingData/XGB_predictions.csv\"\n",
        "stats_file = \"/content/drive/My Drive/Colab Notebooks/MICCAI_BraTS2020_TrainingData/stats.csv\""
      ],
      "execution_count": 76,
      "outputs": []
    },
    {
      "cell_type": "markdown",
      "metadata": {
        "id": "JL4oVv1439wj",
        "colab_type": "text"
      },
      "source": [
        "Linear Regression Model\n"
      ]
    },
    {
      "cell_type": "code",
      "metadata": {
        "id": "uxGJfC8hT8P3",
        "colab_type": "code",
        "colab": {}
      },
      "source": [
        "#Linear Regression Model\n",
        "seed = 0\n",
        "test_size = 0.33\n",
        "X_train, X_test, y_train, y_test = train_test_split(X, Y, test_size=test_size, random_state=seed)\n",
        "\n",
        "model = LinearRegression() \n",
        "model.fit(X_train, y_train)\n",
        "#save model\n",
        "pickle.dump(model, open(LR_model, 'wb'))\n",
        "\n",
        "#Linear Regression on normalized data\n",
        "X_train_norm = preprocessing.normalize(X_train)\n",
        "model = LinearRegression() \n",
        "model.fit(X_train_norm, y_train)\n",
        "#save model\n",
        "pickle.dump(model, open(LRNORM_model, 'wb'))\n",
        "\n"
      ],
      "execution_count": 70,
      "outputs": []
    },
    {
      "cell_type": "markdown",
      "metadata": {
        "id": "O9KxzkJ75NwY",
        "colab_type": "text"
      },
      "source": [
        "Random Forest Model"
      ]
    },
    {
      "cell_type": "code",
      "metadata": {
        "id": "yq__kImKQQh0",
        "colab_type": "code",
        "colab": {
          "base_uri": "https://localhost:8080/",
          "height": 199
        },
        "outputId": "3227e930-8ea9-41e2-cfe6-24749349d1da"
      },
      "source": [
        "#Finding the best params\n",
        "'''\n",
        " \n",
        "# Number of trees in random forest\n",
        "n_estimators = [int(x) for x in np.linspace(start = 200, stop = 2000, num = 10)]\n",
        "# Number of features to consider at every split\n",
        "max_features = ['auto', 'sqrt']\n",
        "# Maximum number of levels in tree\n",
        "max_depth = [int(x) for x in np.linspace(10, 110, num = 11)]\n",
        "max_depth.append(None)\n",
        "# Minimum number of samples required to split a node\n",
        "min_samples_split = [2, 5, 10]\n",
        "# Minimum number of samples required at each leaf node\n",
        "min_samples_leaf = [1, 2, 4]\n",
        "# Method of selecting samples for training each tree\n",
        "bootstrap = [True, False]\n",
        "# Create the random grid\n",
        "random_grid = {'n_estimators': n_estimators,\n",
        "               'max_features': max_features,\n",
        "               'max_depth': max_depth,\n",
        "               'min_samples_split': min_samples_split,\n",
        "               'min_samples_leaf': min_samples_leaf,\n",
        "               'bootstrap': bootstrap}\n",
        "pprint(random_grid)\n",
        "\n",
        "\n",
        "\n",
        "# Use the random grid to search for best hyperparameters\n",
        "# First create the base model to tune\n",
        "rf = RandomForestRegressor()\n",
        "# Random search of parameters, using 3 fold cross validation, \n",
        "# search across 100 different combinations, and use all available cores\n",
        "rf_random = RandomizedSearchCV(estimator = rf, param_distributions = random_grid, n_iter = 100, cv = 3, verbose=2, random_state=42, n_jobs = -1)\n",
        "# Fit the random search model\n",
        "rf_random.fit(X_train, y_train)\n",
        "\n",
        "\n",
        "rf_random.best_params_\n",
        "'''"
      ],
      "execution_count": 59,
      "outputs": [
        {
          "output_type": "execute_result",
          "data": {
            "application/vnd.google.colaboratory.intrinsic+json": {
              "type": "string"
            },
            "text/plain": [
              "\"\\n \\n# Number of trees in random forest\\nn_estimators = [int(x) for x in np.linspace(start = 200, stop = 2000, num = 10)]\\n# Number of features to consider at every split\\nmax_features = ['auto', 'sqrt']\\n# Maximum number of levels in tree\\nmax_depth = [int(x) for x in np.linspace(10, 110, num = 11)]\\nmax_depth.append(None)\\n# Minimum number of samples required to split a node\\nmin_samples_split = [2, 5, 10]\\n# Minimum number of samples required at each leaf node\\nmin_samples_leaf = [1, 2, 4]\\n# Method of selecting samples for training each tree\\nbootstrap = [True, False]\\n# Create the random grid\\nrandom_grid = {'n_estimators': n_estimators,\\n               'max_features': max_features,\\n               'max_depth': max_depth,\\n               'min_samples_split': min_samples_split,\\n               'min_samples_leaf': min_samples_leaf,\\n               'bootstrap': bootstrap}\\npprint(random_grid)\\n\\n\\n\\n# Use the random grid to search for best hyperparameters\\n# First create the base model to tune\\nrf = RandomForestRegressor()\\n# Random search of parameters, using 3 fold cross validation, \\n# search across 100 different combinations, and use all available cores\\nrf_random = RandomizedSearchCV(estimator = rf, param_distributions = random_grid, n_iter = 100, cv = 3, verbose=2, random_state=42, n_jobs = -1)\\n# Fit the random search model\\nrf_random.fit(X_train, y_train)\\n\\n\\nrf_random.best_params_\\n\""
            ]
          },
          "metadata": {
            "tags": []
          },
          "execution_count": 59
        }
      ]
    },
    {
      "cell_type": "code",
      "metadata": {
        "id": "_77jDWTh5Sg8",
        "colab_type": "code",
        "colab": {}
      },
      "source": [
        "# Random Forest Regressor \n",
        "\n",
        "seed = 0\n",
        "test_size = 0.33\n",
        "X_train, X_test, y_train, y_test = train_test_split(X, Y, test_size=test_size)  \n",
        "\n",
        "RFregressor = RandomForestRegressor(random_state=0 , n_estimators = 100)\n",
        "RFregressor.fit(X_train, y_train) \n",
        "#save model\n",
        "pickle.dump(RFregressor, open(RF_model, 'wb'))\n",
        "\n",
        "\n",
        "#Random Forest on normalized data\n",
        "X_train_norm = preprocessing.normalize(X_train)\n",
        "RFregressor = RandomForestRegressor(random_state=0 , n_estimators = 100)\n",
        "RFregressor.fit(X_train_norm, y_train)\n",
        "#save model\n",
        "pickle.dump(RFregressor, open(RFNORM_model, 'wb'))\n",
        "\n"
      ],
      "execution_count": 71,
      "outputs": []
    },
    {
      "cell_type": "markdown",
      "metadata": {
        "id": "y1ElLulI6Syb",
        "colab_type": "text"
      },
      "source": [
        "XGBoost Model"
      ]
    },
    {
      "cell_type": "code",
      "metadata": {
        "id": "HQwSKpGB6VUX",
        "colab_type": "code",
        "colab": {
          "base_uri": "https://localhost:8080/",
          "height": 74
        },
        "outputId": "b53c569f-b0f5-4d44-819a-3af2599e3891"
      },
      "source": [
        "#XGBoost Regressor\n",
        "\n",
        "seed = 0\n",
        "test_size = 0.33\n",
        "X_train, X_test, y_train, y_test = train_test_split(X, Y, test_size=test_size, random_state=seed)\n",
        "\n",
        "xgb_regressor = XGBRegressor(learning_rate= 0.1,  subsample = 0.69, eval_metric = 'rmse', verbose = 2)\n",
        "xgb_regressor.fit(X_train, y_train, eval_metric='rmse')\n",
        "#save model\n",
        "pickle.dump(xgb_regressor, open(XGB_model, 'wb'))\n",
        "\n",
        "#Random Forest on normalized data\n",
        "X_train_norm = preprocessing.normalize(X_train)\n",
        "xgb_regressor = XGBRegressor(learning_rate= 0.1,  subsample = 0.69, eval_metric = 'rmse', verbose = 2)\n",
        "xgb_regressor.fit(X_train_norm, y_train, eval_metric='rmse')\n",
        "#save model\n",
        "pickle.dump(xgb_regressor, open(XGBNORM_model, 'wb'))\n",
        "\n",
        "\n",
        "\n",
        "#df = pd.DataFrame({'LR_Actual': y_test.flatten(), 'LR_Predicted': predictions_LR})\n",
        "#df.to_csv(predictions)\n"
      ],
      "execution_count": 72,
      "outputs": [
        {
          "output_type": "stream",
          "text": [
            "[17:38:28] WARNING: /workspace/src/objective/regression_obj.cu:152: reg:linear is now deprecated in favor of reg:squarederror.\n",
            "[17:38:28] WARNING: /workspace/src/objective/regression_obj.cu:152: reg:linear is now deprecated in favor of reg:squarederror.\n"
          ],
          "name": "stdout"
        }
      ]
    },
    {
      "cell_type": "markdown",
      "metadata": {
        "id": "a3xM5oc-yc4q",
        "colab_type": "text"
      },
      "source": [
        "Prediction of Values"
      ]
    },
    {
      "cell_type": "code",
      "metadata": {
        "id": "nPu4g1Owl9-W",
        "colab_type": "code",
        "colab": {
          "base_uri": "https://localhost:8080/",
          "height": 74
        },
        "outputId": "0542a1b3-9d7b-4cd5-e75d-1561d8f97815"
      },
      "source": [
        "#predict values and calculate metrics\n",
        "\n",
        "\n",
        "X_test_norm = preprocessing.normalize(X_test)\n",
        "\n",
        "#predicting values using saved LR model\n",
        "loaded_model = pickle.load(open(LR_model, 'rb'))\n",
        "y_pred = loaded_model.predict(X_test)\n",
        "predictions_LR = [round(value) for value in y_pred]\n",
        "\n",
        "LR_mse = mean_squared_error(y_test, predictions_LR, squared=False)\n",
        "LR_r_square = r2_score(y_test, predictions_LR)\n",
        "LR_mae = mean_squared_error(y_test, predictions_LR)\n",
        "\n",
        "LR_metrics = [LR_mse, LR_r_square, LR_mae]\n",
        "\n",
        "#predicting values using saved LR model with Normalized values\n",
        "loaded_model = pickle.load(open(LRNORM_model, 'rb'))\n",
        "y_pred = loaded_model.predict(X_test_norm)\n",
        "predictions_LRNORM = [round(value) for value in y_pred]\n",
        "\n",
        "LRNORM_mse = mean_squared_error(y_test, predictions_LRNORM, squared=False)\n",
        "LRNORM_r_square = r2_score(y_test, predictions_LRNORM)\n",
        "LRNORM_mae = mean_squared_error(y_test, predictions_LRNORM)\n",
        "\n",
        "LRNORM_metrics = [LRNORM_mse, LRNORM_r_square, LRNORM_mae]\n",
        "\n",
        "\n",
        "#Predicting values using saved RF model\n",
        "loaded_model = pickle.load(open(RF_model, 'rb'))\n",
        "y_pred = loaded_model.predict(X_test)\n",
        "predictions_RF = [round(value) for value in y_pred]\n",
        "\n",
        "RF_mse = mean_squared_error(y_test, predictions_RF, squared=False)\n",
        "RF_r_square = r2_score(y_test, predictions_RF)\n",
        "RF_mae = mean_squared_error(y_test, predictions_RF)\n",
        "\n",
        "RF_metrics = [RF_mse, RF_r_square, RF_mae]\n",
        "\n",
        "#predicting values using saved RF model with Normalized values\n",
        "loaded_model = pickle.load(open(RFNORM_model, 'rb'))\n",
        "y_pred = loaded_model.predict(X_test_norm)\n",
        "predictions_RFNORM = [round(value) for value in y_pred]\n",
        "\n",
        "RFNORM_mse = mean_squared_error(y_test, predictions_RFNORM, squared=False)\n",
        "RFNORM_r_square = r2_score(y_test, predictions_RFNORM)\n",
        "RFNORM_mae = mean_squared_error(y_test, predictions_RFNORM)\n",
        "\n",
        "RFNORM_metrics = [RFNORM_mse, RFNORM_r_square, RFNORM_mae]\n",
        "\n",
        "\n",
        "#Predicting values using saved XGB model\n",
        "loaded_model = pickle.load(open(XGB_model, 'rb'))\n",
        "y_pred = loaded_model.predict(X_test)\n",
        "predictions_XGB = [round(value) for value in y_pred]\n",
        "\n",
        "XGB_mse = mean_squared_error(y_test, predictions_XGB, squared=False)\n",
        "XGB_r_square = r2_score(y_test, predictions_XGB)\n",
        "XGB_mae = mean_squared_error(y_test, predictions_XGB)\n",
        "\n",
        "XGB_metrics = [XGB_mse, XGB_r_square, XGB_mae]\n",
        "\n",
        "\n",
        "#predicting values using saved XGB model with Normalized values\n",
        "loaded_model = pickle.load(open(XGBNORM_model, 'rb'))\n",
        "y_pred = loaded_model.predict(X_test_norm)\n",
        "predictions_XGBNORM = [round(value) for value in y_pred]\n",
        "\n",
        "XGBNORM_mse = mean_squared_error(y_test, predictions_XGBNORM, squared=False)\n",
        "XGBNORM_r_square = r2_score(y_test, predictions_XGBNORM)\n",
        "XGBNORM_mae = mean_squared_error(y_test, predictions_XGBNORM)\n",
        "\n",
        "XGBNORM_metrics = [XGBNORM_mse, XGBNORM_r_square, XGBNORM_mae]"
      ],
      "execution_count": 73,
      "outputs": [
        {
          "output_type": "stream",
          "text": [
            "[17:38:30] WARNING: /workspace/src/objective/regression_obj.cu:152: reg:linear is now deprecated in favor of reg:squarederror.\n",
            "[17:38:30] WARNING: /workspace/src/objective/regression_obj.cu:152: reg:linear is now deprecated in favor of reg:squarederror.\n"
          ],
          "name": "stdout"
        }
      ]
    },
    {
      "cell_type": "code",
      "metadata": {
        "id": "wkTN5U7devZL",
        "colab_type": "code",
        "colab": {}
      },
      "source": [
        "#store metric results \n",
        "metrics_info = ['RMSE', 'R2', 'MAE']\n",
        "\n",
        "stats_df = pd.DataFrame({'Metrics': metrics_info, 'LR': LR_metrics, 'LR NORM': LRNORM_metrics,'RF': RF_metrics, 'RF NORM': RFNORM_metrics, 'XGB': XGB_metrics, 'XGB NORM': XGBNORM_metrics})\n",
        "stats_df.to_csv(stats_file)"
      ],
      "execution_count": 74,
      "outputs": []
    },
    {
      "cell_type": "code",
      "metadata": {
        "id": "d9xF8KQBvG_v",
        "colab_type": "code",
        "colab": {}
      },
      "source": [
        "#store predicted values\n",
        "df = pd.DataFrame({'LR_Actual': y_test.flatten(), 'LR_Predicted': predictions_LR,'LRNORM_Predicted': predictions_LRNORM})\n",
        "df.to_csv(LR_predictions_file)\n",
        "\n",
        "df = pd.DataFrame({'RF_Actual': y_test.flatten(), 'RF_Predicted': predictions_RF,'RFNORM_Predicted': predictions_RFNORM})\n",
        "df.to_csv(RF_predictions_file)\n",
        "\n",
        "df = pd.DataFrame({'XGB_Actual': y_test.flatten(), 'XGB_Predicted': predictions_XGB,'XGBNORM_Predicted': predictions_XGBNORM})\n",
        "df.to_csv(XGB_predictions_file)"
      ],
      "execution_count": 77,
      "outputs": []
    }
  ]
}